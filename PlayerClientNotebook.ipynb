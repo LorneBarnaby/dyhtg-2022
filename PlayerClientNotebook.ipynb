{
 "cells": [
  {
   "cell_type": "code",
   "execution_count": 9,
   "id": "d4238830",
   "metadata": {},
   "outputs": [],
   "source": [
    "from Player import Player"
   ]
  },
  {
   "cell_type": "code",
   "execution_count": 10,
   "id": "c503998d",
   "metadata": {},
   "outputs": [
    {
     "name": "stdout",
     "output_type": "stream",
     "text": [
      "playerjoined ['warrior', 'mydisplayname', '36', '68']\n"
     ]
    }
   ],
   "source": [
    "player1 = Player.spawn((\"10.211.55.4\", 11000),'lorne')"
   ]
  },
  {
   "cell_type": "code",
   "execution_count": 11,
   "id": "2515112b",
   "metadata": {},
   "outputs": [
    {
     "data": {
      "text/plain": [
       "(36, 68)"
      ]
     },
     "execution_count": 11,
     "metadata": {},
     "output_type": "execute_result"
    }
   ],
   "source": [
    "player1.x, player1.y"
   ]
  },
  {
   "cell_type": "code",
   "execution_count": 12,
   "id": "0d7d584b",
   "metadata": {},
   "outputs": [
    {
     "name": "stdout",
     "output_type": "stream",
     "text": [
      "playerupdate ['40', '72', '1', '500', 'False']\n",
      "playerupdate ['40', '72', '1', '500', 'False']\n",
      "nearbyitem ['treasure', '56', '80', '']\n",
      "playerupdate ['40', '72', '1', '500', 'False']\n",
      "nearbyitem ['treasure', '56', '80', '']\n",
      "playerupdate ['40', '72', '1', '500', 'False']\n",
      "nearbywalls ['88', '64', '80', '104', '80', '96', '80', '88', '80', '80', '80', '72', '80', '64', '80', '56', '80', '48', '80', '40', '72', '64', '64', '64', '56', '64', '48', '64', '40', '64', '32', '64', '24', '64', '16', '64', '8', '112', '8', '104', '8', '96', '8', '88', '8', '80', '8', '72', '8', '64', '']\n",
      "nearbyfloors ['16', '72', '16', '80', '16', '88', '16', '96', '16', '104', '16', '112', '24', '72', '24', '80', '24', '88', '24', '96', '24', '104', '24', '112', '32', '72', '32', '80', '32', '88', '32', '96', '32', '104', '32', '112', '40', '72', '40', '80', '40', '88', '40', '96', '40', '104', '40', '112', '48', '72', '48', '80', '48', '88', '48', '96', '48', '104', '48', '112', '56', '72', '56', '80', '56', '88', '56', '96', '56', '104', '56', '112', '64', '72', '64', '80', '64', '88', '64', '96', '64', '104', '72', '72', '72', '80', '72', '88', '72', '96', '']\n",
      "playerupdate ['40', '72', '1', '500', 'False']\n",
      "nearbyitem ['treasure', '56', '80', '']\n"
     ]
    }
   ],
   "source": [
    "for _ in range(10):\n",
    "    update = player1.socket.recvfrom(player1.bufferSize)[0].decode('ascii') \n",
    "    player1.update(update)"
   ]
  },
  {
   "cell_type": "code",
   "execution_count": 10,
   "id": "d9887d2d",
   "metadata": {},
   "outputs": [
    {
     "name": "stdout",
     "output_type": "stream",
     "text": [
      "nearbyitem ['treasure', '80', '184', '']\n"
     ]
    }
   ],
   "source": [
    "player1.face_direction('e')\n",
    "update = player1.socket.recvfrom(player1.bufferSize)[0].decode('ascii') \n",
    "player1.update(update)"
   ]
  },
  {
   "cell_type": "code",
   "execution_count": 11,
   "id": "69916741",
   "metadata": {},
   "outputs": [
    {
     "name": "stdout",
     "output_type": "stream",
     "text": [
      "nearbyitem ['treasure', '80', '184', 'treasure', '80', '184', '']\n"
     ]
    }
   ],
   "source": [
    "player1.move_direction('e')\n",
    "update = player1.socket.recvfrom(player1.bufferSize)[0].decode('ascii') \n",
    "player1.update(update)"
   ]
  },
  {
   "cell_type": "code",
   "execution_count": 13,
   "id": "93404818",
   "metadata": {},
   "outputs": [
    {
     "data": {
      "text/plain": [
       "[['treasure', '56', '80'], ['treasure', '56', '80'], ['treasure', '56', '80']]"
      ]
     },
     "execution_count": 13,
     "metadata": {},
     "output_type": "execute_result"
    }
   ],
   "source": [
    "player1.nearby_items"
   ]
  },
  {
   "cell_type": "code",
   "execution_count": 13,
   "id": "339f3fac",
   "metadata": {},
   "outputs": [],
   "source": [
    "player1.stop()"
   ]
  },
  {
   "cell_type": "code",
   "execution_count": 15,
   "id": "8811cf93",
   "metadata": {},
   "outputs": [],
   "source": [
    "player1.move_to(80,184)"
   ]
  },
  {
   "cell_type": "code",
   "execution_count": 8,
   "id": "0c3c07e9",
   "metadata": {},
   "outputs": [
    {
     "ename": "KeyboardInterrupt",
     "evalue": "",
     "output_type": "error",
     "traceback": [
      "\u001b[0;31m---------------------------------------------------------------------------\u001b[0m",
      "\u001b[0;31mKeyboardInterrupt\u001b[0m                         Traceback (most recent call last)",
      "Input \u001b[0;32mIn [8]\u001b[0m, in \u001b[0;36m<cell line: 1>\u001b[0;34m()\u001b[0m\n\u001b[1;32m      1\u001b[0m \u001b[38;5;28;01mwhile\u001b[39;00m \u001b[38;5;28;01mTrue\u001b[39;00m:\n\u001b[0;32m----> 2\u001b[0m     \u001b[38;5;28;01mif\u001b[39;00m \u001b[38;5;28;43mlen\u001b[39;49m\u001b[43m(\u001b[49m\u001b[43mplayer1\u001b[49m\u001b[38;5;241;43m.\u001b[39;49m\u001b[43mnearby_items\u001b[49m\u001b[43m)\u001b[49m:\n\u001b[1;32m      3\u001b[0m         item \u001b[38;5;241m=\u001b[39m player1\u001b[38;5;241m.\u001b[39mnearby_items\u001b[38;5;241m.\u001b[39mpop()\n\u001b[1;32m      4\u001b[0m         player1\u001b[38;5;241m.\u001b[39mmove_to(item[\u001b[38;5;241m0\u001b[39m],item[\u001b[38;5;241m1\u001b[39m])\n",
      "\u001b[0;31mKeyboardInterrupt\u001b[0m: "
     ]
    }
   ],
   "source": [
    "while True:\n",
    "    if len(player1.nearby_items):\n",
    "        item = player1.nearby_items.pop()\n",
    "        player1.move_to(item[0],item[1])"
   ]
  },
  {
   "cell_type": "code",
   "execution_count": 18,
   "id": "91211b98",
   "metadata": {},
   "outputs": [
    {
     "data": {
      "text/plain": [
       "[]"
      ]
     },
     "execution_count": 18,
     "metadata": {},
     "output_type": "execute_result"
    }
   ],
   "source": [
    "player1.nearby_items"
   ]
  },
  {
   "cell_type": "code",
   "execution_count": 47,
   "id": "4412bb8f",
   "metadata": {},
   "outputs": [
    {
     "data": {
      "text/plain": [
       "['bluekey', 'greenkey', '']"
      ]
     },
     "execution_count": 47,
     "metadata": {},
     "output_type": "execute_result"
    }
   ],
   "source": [
    "items = ['bluekey', '80', '72', 'greenkey', '112', '56', '']\n",
    "items[::]"
   ]
  },
  {
   "cell_type": "code",
   "execution_count": 51,
   "id": "cc37381a",
   "metadata": {},
   "outputs": [],
   "source": [
    "nearby = [] \n",
    "if len(items):\n",
    "    n_groups = (len(items)-1) // 3\n",
    "    \n",
    "    for i in range(n_groups):\n",
    "        \n",
    "        nearby.append(items[i*3:(i+1)*3])"
   ]
  },
  {
   "cell_type": "code",
   "execution_count": 52,
   "id": "95dfac6a",
   "metadata": {},
   "outputs": [
    {
     "data": {
      "text/plain": [
       "[['bluekey', '80', '72'], ['greenkey', '112', '56']]"
      ]
     },
     "execution_count": 52,
     "metadata": {},
     "output_type": "execute_result"
    }
   ],
   "source": [
    "nearby"
   ]
  },
  {
   "cell_type": "code",
   "execution_count": 14,
   "id": "33d72547",
   "metadata": {},
   "outputs": [],
   "source": [
    "if len(player1.nearby_items):\n",
    "    item = player1.nearby_items.pop()\n",
    "    player1.move_to(item[0],item[1])"
   ]
  },
  {
   "cell_type": "code",
   "execution_count": 15,
   "id": "bbdd5772",
   "metadata": {},
   "outputs": [
    {
     "ename": "IndexError",
     "evalue": "pop from empty list",
     "output_type": "error",
     "traceback": [
      "\u001b[0;31m---------------------------------------------------------------------------\u001b[0m",
      "\u001b[0;31mIndexError\u001b[0m                                Traceback (most recent call last)",
      "Input \u001b[0;32mIn [15]\u001b[0m, in \u001b[0;36m<cell line: 1>\u001b[0;34m()\u001b[0m\n\u001b[0;32m----> 1\u001b[0m \u001b[43m[\u001b[49m\u001b[43m]\u001b[49m\u001b[38;5;241;43m.\u001b[39;49m\u001b[43mpop\u001b[49m\u001b[43m(\u001b[49m\u001b[43m)\u001b[49m\n",
      "\u001b[0;31mIndexError\u001b[0m: pop from empty list"
     ]
    }
   ],
   "source": []
  },
  {
   "cell_type": "code",
   "execution_count": null,
   "id": "db89f859",
   "metadata": {},
   "outputs": [],
   "source": []
  }
 ],
 "metadata": {
  "kernelspec": {
   "display_name": "Python 3 (ipykernel)",
   "language": "python",
   "name": "python3"
  },
  "language_info": {
   "codemirror_mode": {
    "name": "ipython",
    "version": 3
   },
   "file_extension": ".py",
   "mimetype": "text/x-python",
   "name": "python",
   "nbconvert_exporter": "python",
   "pygments_lexer": "ipython3",
   "version": "3.10.4"
  }
 },
 "nbformat": 4,
 "nbformat_minor": 5
}
