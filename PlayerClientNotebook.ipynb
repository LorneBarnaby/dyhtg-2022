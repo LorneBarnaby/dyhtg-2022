{
 "cells": [
  {
   "cell_type": "code",
   "execution_count": 1,
   "id": "d4238830",
   "metadata": {},
   "outputs": [],
   "source": [
    "from Player import Player"
   ]
  },
  {
   "cell_type": "code",
   "execution_count": 5,
   "id": "c503998d",
   "metadata": {
    "scrolled": true
   },
   "outputs": [
    {
     "name": "stdout",
     "output_type": "stream",
     "text": [
      "joined with data ['warrior', 'lorne', '156', '148']\n"
     ]
    }
   ],
   "source": [
    "player1 = Player.spawn((\"10.211.55.4\", 11000),'lorne')"
   ]
  },
  {
   "cell_type": "code",
   "execution_count": 6,
   "id": "2515112b",
   "metadata": {},
   "outputs": [
    {
     "name": "stdout",
     "output_type": "stream",
     "text": [
      "156 148\n"
     ]
    }
   ],
   "source": [
    "print(player1.x, player1.y)\n",
    "player1.x += 4\n",
    "player1.y += 4"
   ]
  },
  {
   "cell_type": "code",
   "execution_count": 16,
   "id": "da3f01e7",
   "metadata": {
    "scrolled": true
   },
   "outputs": [
    {
     "name": "stdout",
     "output_type": "stream",
     "text": [
      "{Wall(x=208, y=184), Wall(x=176, y=216), Wall(x=224, y=192), Wall(x=224, y=216), Wall(x=184, y=232), Wall(x=192, y=184), Wall(x=176, y=200), Wall(x=208, y=232), Wall(x=216, y=184), Wall(x=176, y=224), Wall(x=224, y=200), Wall(x=176, y=184), Wall(x=216, y=232), Wall(x=192, y=232), Wall(x=200, y=184), Wall(x=224, y=224), Wall(x=176, y=208), Wall(x=224, y=184), Wall(x=200, y=232), Wall(x=176, y=232), Wall(x=176, y=192), Wall(x=224, y=208), Wall(x=184, y=184), Wall(x=224, y=232)}\n"
     ]
    }
   ],
   "source": [
    "\n",
    "\n",
    "for _ in range(100):\n",
    "    update = player1.socket.recvfrom(player1.bufferSize)[0].decode('ascii') \n",
    "    player1.update(update)\n",
    "\n",
    "# print(player1.nearest_floors(20))\n",
    "print(player1.seen_walls)"
   ]
  },
  {
   "cell_type": "code",
   "execution_count": 7,
   "id": "896d7a92",
   "metadata": {},
   "outputs": [],
   "source": [
    "import random\n",
    "from FloorTile import FloorTile\n",
    "from Wall import Wall\n",
    "from time import sleep\n",
    "\n",
    "\n",
    "\n",
    "def update():\n",
    "    for _ in range(20):\n",
    "        u = player1.socket.recvfrom(player1.bufferSize)[0].decode('ascii')\n",
    "        player1.update(u)\n",
    "\n",
    "\n",
    "n = player1.x, player1.y - 8\n",
    "s = player1.x, player1.y + 8\n",
    "e = player1.x + 8, player1.y\n",
    "w = player1.x - 8, player1.y \n",
    "\n",
    "\n",
    "ntile, stile, etile, wtile = [FloorTile(*i, False) for i in [n,s,e,w]]\n",
    "\n",
    "update()\n",
    "\n",
    "\n",
    "def north():\n",
    "    \n",
    "    print('Heading north')\n",
    "    \n",
    "    n = player1.x, player1.y-8\n",
    "    ntile = FloorTile(*n, False)\n",
    "    player1.move_to(ntile.x, ntile.y)\n",
    "    \n",
    "\n",
    "    while True:\n",
    "        update()\n",
    "        \n",
    "        \n",
    "        n = player1.x, player1.y-8\n",
    "        ntile = FloorTile(*n, False)\n",
    "\n",
    "\n",
    "        s = player1.x, player1.y + 8\n",
    "        e = player1.x + 8, player1.y\n",
    "        w = player1.x - 8, player1.y \n",
    "\n",
    "\n",
    "        stile, etile, wtile = [FloorTile(*i, False) for i in [s,e,w]]\n",
    "        \n",
    "\n",
    "        if ntile in player1.seen_walls:\n",
    "            east()\n",
    "            print(\"should head east\")\n",
    "            return\n",
    "        elif wtile not in player1.seen_walls:\n",
    "            west()\n",
    "            print(\"sould head west\")\n",
    "            return \n",
    "    \n",
    "        player1.move_to(ntile.x, ntile.y)\n",
    "        sleep(1)\n",
    "            \n",
    "def east():\n",
    "    print('Heading east')\n",
    "    \n",
    "    e = player1.x + 8, player1.y\n",
    "    etile = FloorTile(*e, False)\n",
    "    \n",
    "    while True:\n",
    "        \n",
    "        update()\n",
    "        \n",
    "        \n",
    "        e = player1.x + 8, player1.y\n",
    "        etile = FloorTile(*e, False)\n",
    "        \n",
    "        \n",
    "        n = player1.x, player1.y - 8\n",
    "        s = player1.x, player1.y + 8\n",
    "        \n",
    "        w = player1.x - 8, player1.y \n",
    "\n",
    "\n",
    "        ntile, stile, wtile = [FloorTile(*i, False) for i in [n,s,w]]\n",
    "        \n",
    "        \n",
    "        if etile in player1.seen_walls:\n",
    "            print('should head south')\n",
    "            south()\n",
    "            return\n",
    "        elif ntile not in player1.seen_walls:\n",
    "            print('should head north')\n",
    "            north()\n",
    "            \n",
    "            return \n",
    "    \n",
    "        player1.move_to(etile.x, etile.y)\n",
    "        sleep(1)\n",
    "            \n",
    "def south():\n",
    "    print('Heading south')\n",
    "    \n",
    "    s = player1.x, player1.y+8\n",
    "    stile = FloorTile(*s, False)\n",
    "    player1.move_to(stile.x, stile.y)\n",
    "    \n",
    "    while True:\n",
    "        update()\n",
    "        \n",
    "        \n",
    "        s = player1.x, player1.y+8\n",
    "        stile = FloorTile(*s, False)\n",
    "    \n",
    "        \n",
    "        n = player1.x, player1.y - 8\n",
    "       \n",
    "        e = player1.x + 8, player1.y\n",
    "        w = player1.x - 8, player1.y \n",
    "\n",
    "\n",
    "        ntile, etile, wtile = [FloorTile(*i, False) for i in [n,e,w]]\n",
    "        \n",
    "        \n",
    "        \n",
    "\n",
    "        if stile in player1.seen_walls:\n",
    "#             \n",
    "            print('should head east')\n",
    "            east()\n",
    "            return\n",
    "        elif etile not in player1.seen_walls:\n",
    "            print('should head west')\n",
    "            west()\n",
    "            return \n",
    "\n",
    "        player1.move_to(stile.x, stile.y)\n",
    "        sleep(1)\n",
    "        \n",
    "def west():\n",
    "    \n",
    "    w = player1.x - 8, player1.y\n",
    "    wtile = FloorTile(*w, False)\n",
    "    player1.move_to(wtile.x, wtile.y)\n",
    "    \n",
    "    while True:\n",
    "        \n",
    "        update()\n",
    "        \n",
    "        \n",
    "        print('Heading west')\n",
    "        w = player1.x - 8, player1.y\n",
    "        wtile = FloorTile(*w, False)\n",
    "\n",
    "        \n",
    "        n = player1.x, player1.y - 8\n",
    "        e = player1.x + 8, player1.y\n",
    "        s = player1.x, player1.y + 8\n",
    "        \n",
    "        ntile, stile, etile = [FloorTile(*i, False) for i in [n,s,e]]\n",
    "        \n",
    "        \n",
    "        if wtile in player1.seen_walls:\n",
    "\n",
    "            print('Should head north')\n",
    "            north()\n",
    "            return\n",
    "        elif stile not in player1.seen_walls:\n",
    "            print('should head south')\n",
    "            south()\n",
    "            return\n",
    "\n",
    "        player1.move_to(wtile.x, wtile.y)\n",
    "        \n",
    "        sleep(1)\n",
    "\n",
    "            "
   ]
  },
  {
   "cell_type": "code",
   "execution_count": 11,
   "id": "98564e33",
   "metadata": {},
   "outputs": [
    {
     "name": "stdout",
     "output_type": "stream",
     "text": [
      "Heading west\n",
      "Heading west\n",
      "Heading west\n",
      "Heading west\n",
      "Heading west\n",
      "Should head north\n"
     ]
    }
   ],
   "source": [
    "west()"
   ]
  },
  {
   "cell_type": "code",
   "execution_count": null,
   "id": "ea59d9bf",
   "metadata": {},
   "outputs": [
    {
     "name": "stdout",
     "output_type": "stream",
     "text": [
      "Heading north\n",
      "Heading east\n",
      "should head north\n",
      "Heading north\n",
      "Heading west\n",
      "should head south\n",
      "Heading south\n",
      "should head west\n",
      "Heading west\n",
      "should head south\n",
      "Heading south\n",
      "should head west\n",
      "Heading west\n",
      "should head south\n",
      "Heading south\n",
      "should head west\n",
      "Heading west\n",
      "should head south\n",
      "Heading south\n",
      "should head west\n",
      "Heading west\n",
      "should head south\n",
      "Heading south\n",
      "should head west\n",
      "Heading west\n",
      "should head south\n",
      "Heading south\n",
      "should head west\n",
      "Heading west\n",
      "should head south\n",
      "Heading south\n",
      "should head west\n",
      "Heading west\n",
      "should head south\n",
      "Heading south\n",
      "should head west\n",
      "Heading west\n",
      "should head south\n",
      "Heading south\n",
      "should head west\n",
      "Heading west\n",
      "should head south\n",
      "Heading south\n",
      "should head west\n",
      "Heading west\n",
      "should head south\n",
      "Heading south\n",
      "should head west\n",
      "Heading west\n",
      "should head south\n",
      "Heading south\n",
      "should head west\n",
      "Heading west\n",
      "should head south\n",
      "Heading south\n",
      "should head west\n",
      "Heading west\n",
      "should head south\n",
      "Heading south\n",
      "should head west\n",
      "Heading west\n",
      "should head south\n",
      "Heading south\n",
      "should head west\n",
      "Heading west\n",
      "should head south\n",
      "Heading south\n",
      "should head west\n",
      "Heading west\n",
      "should head south\n",
      "Heading south\n",
      "should head west\n",
      "Heading west\n",
      "should head south\n",
      "Heading south\n",
      "should head west\n",
      "Heading west\n",
      "should head south\n",
      "Heading south\n",
      "should head west\n",
      "Heading west\n",
      "should head south\n",
      "Heading south\n",
      "should head west\n",
      "Heading west\n",
      "should head south\n",
      "Heading south\n",
      "should head west\n",
      "Heading west\n",
      "should head south\n",
      "Heading south\n",
      "should head west\n",
      "Heading west\n",
      "should head south\n",
      "Heading south\n",
      "should head west\n",
      "Heading west\n",
      "should head south\n",
      "Heading south\n"
     ]
    }
   ],
   "source": [
    "north()"
   ]
  },
  {
   "cell_type": "code",
   "execution_count": 9,
   "id": "7a657312",
   "metadata": {},
   "outputs": [
    {
     "name": "stdout",
     "output_type": "stream",
     "text": [
      "Heading east\n",
      "should head north\n"
     ]
    }
   ],
   "source": [
    "east()"
   ]
  },
  {
   "cell_type": "code",
   "execution_count": 13,
   "id": "7fdb466b",
   "metadata": {},
   "outputs": [
    {
     "name": "stdout",
     "output_type": "stream",
     "text": [
      "Heading south\n",
      "should head west\n"
     ]
    }
   ],
   "source": [
    "south()"
   ]
  },
  {
   "cell_type": "code",
   "execution_count": 15,
   "id": "51b5591d",
   "metadata": {},
   "outputs": [],
   "source": [
    "player1.stop()"
   ]
  },
  {
   "cell_type": "code",
   "execution_count": 9,
   "id": "9812b40e",
   "metadata": {},
   "outputs": [
    {
     "name": "stdout",
     "output_type": "stream",
     "text": [
      "wanting to move to square FloorTile(x=152, y=152, _visited=False) from 160 152\n"
     ]
    },
    {
     "ename": "KeyboardInterrupt",
     "evalue": "",
     "output_type": "error",
     "traceback": [
      "\u001B[0;31m---------------------------------------------------------------------------\u001B[0m",
      "\u001B[0;31mKeyboardInterrupt\u001B[0m                         Traceback (most recent call last)",
      "Cell \u001B[0;32mIn [9], line 33\u001B[0m\n\u001B[1;32m     29\u001B[0m     \u001B[38;5;28;01mbreak\u001B[39;00m\n\u001B[1;32m     31\u001B[0m player1\u001B[38;5;241m.\u001B[39mmove_to(sq\u001B[38;5;241m.\u001B[39mx, sq\u001B[38;5;241m.\u001B[39my)\n\u001B[0;32m---> 33\u001B[0m \u001B[43msleep\u001B[49m\u001B[43m(\u001B[49m\u001B[38;5;241;43m10\u001B[39;49m\u001B[43m)\u001B[49m\n",
      "\u001B[0;31mKeyboardInterrupt\u001B[0m: "
     ]
    }
   ],
   "source": [
    "import random\n",
    "from FloorTile import FloorTile\n",
    "from Wall import Wall\n",
    "from time import sleep\n",
    "\n",
    "\n",
    "# Walk in a direction until a wall is hit\n",
    "# Walk left\n",
    "\n",
    "def update():\n",
    "    for _ in range(20):\n",
    "        update = player1.socket.recvfrom(player1.bufferSize)[0].decode('ascii')\n",
    "        player1.update(update)\n",
    "\n",
    "lastpos = player1.x,player1.y\n",
    "\n",
    "while True:\n",
    "    update()\n",
    "    \n",
    "    \n",
    "    sleep(1)\n",
    "    \n",
    "    left_square = player1.x - 8, player1.y\n",
    "    sq = FloorTile(*left_square, False)\n",
    "    \n",
    "    print('wanting to move to square', sq, 'from', player1.x, player1.y)\n",
    "    if sq in player1.seen_walls:\n",
    "        print('reached the wall at', sq)\n",
    "        break\n",
    "    \n",
    "    player1.move_to(sq.x, sq.y)\n",
    "    \n",
    "    sleep(10)\n",
    "\n",
    "    \n",
    "\n"
   ]
  },
  {
   "cell_type": "code",
   "execution_count": null,
   "id": "e3e94374",
   "metadata": {},
   "outputs": [],
   "source": [
    "\n",
    "from time import sleep\n",
    "\n",
    "while True:\n",
    "    for _ in range(20):\n",
    "        update = player1.socket.recvfrom(player1.bufferSize)[0].decode('ascii') \n",
    "        player1.update(update)\n",
    "\n",
    "\n",
    "\n",
    "    n = player1.x, player1.y - 8\n",
    "    s = player1.x, player1.y + 8\n",
    "    e = player1.x + 8, player1.y\n",
    "    w = player1.x - 8, player1.y \n",
    "\n",
    "\n",
    "    ne = player1.x + 8, player1.y - 8\n",
    "    se = player1.x + 8, player1.y + 8\n",
    "\n",
    "    nw = player1.x - 8, player1.y - 8\n",
    "    sw = player1.x - 8, player1.y + 8\n",
    "\n",
    "\n",
    "    prospective_floors = set([FloorTile(*i, False) for i in [\n",
    "        n,s,e,w, ne,se,nw,sw\n",
    "    ]])\n",
    "\n",
    "    actual_floors = prospective_floors.difference(player1.seen_walls)\n",
    "    print('af', actual_floors)\n",
    "\n",
    "\n",
    "\n",
    "    actual_floors.add(FloorTile(player1.x,player1.y, True))\n",
    "\n",
    "\n",
    "    can_move_to = []\n",
    "\n",
    "    for floor in actual_floors:\n",
    "        floorkey = f'{floor.x},{floor.y}'\n",
    "        if floorkey in player1.floors_dict:\n",
    "        \n",
    "            can_move_to.append(player1.floors_dict[floorkey])\n",
    "\n",
    "\n",
    "\n",
    "    #randomly choose a tile to move to\n",
    "    unvisited = list(filter(lambda f: not f.visited, can_move_to))\n",
    "\n",
    "\n",
    "    if len(unvisited):\n",
    "        to_visit = unvisited[0]     \n",
    "    else:\n",
    "        to_visit = player1.floors_dict[player1.predecessors[f'{player1.x},{player1.y}']] \n",
    "\n",
    "    print('Trying to visit', to_visit, 'from', player1.x, player1.y)\n",
    "\n",
    "    to_visit.visited = True\n",
    "    player1.move_to(to_visit.x, to_visit.y)\n",
    "    \n",
    "    \n",
    "    "
   ]
  },
  {
   "cell_type": "code",
   "execution_count": 81,
   "id": "6267fae9",
   "metadata": {},
   "outputs": [
    {
     "data": {
      "text/plain": [
       "{FloorTile(x=104, y=40, _visited=False),\n",
       " FloorTile(x=104, y=56, _visited=False),\n",
       " FloorTile(x=104, y=64, _visited=False),\n",
       " FloorTile(x=104, y=72, _visited=False),\n",
       " FloorTile(x=104, y=80, _visited=False),\n",
       " FloorTile(x=104, y=88, _visited=False),\n",
       " FloorTile(x=112, y=40, _visited=False),\n",
       " FloorTile(x=112, y=56, _visited=False),\n",
       " FloorTile(x=112, y=64, _visited=False),\n",
       " FloorTile(x=112, y=72, _visited=False),\n",
       " FloorTile(x=112, y=80, _visited=False),\n",
       " FloorTile(x=112, y=88, _visited=False),\n",
       " FloorTile(x=120, y=104, _visited=False),\n",
       " FloorTile(x=120, y=112, _visited=False),\n",
       " FloorTile(x=120, y=40, _visited=False),\n",
       " FloorTile(x=120, y=56, _visited=False),\n",
       " FloorTile(x=120, y=64, _visited=False),\n",
       " FloorTile(x=120, y=72, _visited=False),\n",
       " FloorTile(x=120, y=80, _visited=False),\n",
       " FloorTile(x=120, y=88, _visited=False),\n",
       " FloorTile(x=120, y=96, _visited=False),\n",
       " FloorTile(x=128, y=56, _visited=False),\n",
       " FloorTile(x=128, y=64, _visited=False),\n",
       " FloorTile(x=128, y=72, _visited=False),\n",
       " FloorTile(x=128, y=80, _visited=False),\n",
       " FloorTile(x=128, y=88, _visited=False),\n",
       " FloorTile(x=16, y=16, _visited=False),\n",
       " FloorTile(x=16, y=24, _visited=False),\n",
       " FloorTile(x=16, y=32, _visited=False),\n",
       " FloorTile(x=16, y=40, _visited=False),\n",
       " FloorTile(x=16, y=8, _visited=False),\n",
       " FloorTile(x=24, y=16, _visited=False),\n",
       " FloorTile(x=24, y=24, _visited=False),\n",
       " FloorTile(x=24, y=32, _visited=False),\n",
       " FloorTile(x=24, y=40, _visited=False),\n",
       " FloorTile(x=24, y=8, _visited=False),\n",
       " FloorTile(x=32, y=16, _visited=False),\n",
       " FloorTile(x=32, y=24, _visited=False),\n",
       " FloorTile(x=32, y=32, _visited=False),\n",
       " FloorTile(x=32, y=40, _visited=False),\n",
       " FloorTile(x=32, y=8, _visited=False),\n",
       " FloorTile(x=40, y=104, _visited=True),\n",
       " FloorTile(x=40, y=144, _visited=False),\n",
       " FloorTile(x=40, y=16, _visited=False),\n",
       " FloorTile(x=40, y=24, _visited=False),\n",
       " FloorTile(x=40, y=32, _visited=False),\n",
       " FloorTile(x=40, y=40, _visited=False),\n",
       " FloorTile(x=40, y=56, _visited=False),\n",
       " FloorTile(x=40, y=64, _visited=False),\n",
       " FloorTile(x=40, y=72, _visited=True),\n",
       " FloorTile(x=40, y=8, _visited=False),\n",
       " FloorTile(x=40, y=80, _visited=True),\n",
       " FloorTile(x=40, y=88, _visited=True),\n",
       " FloorTile(x=40, y=96, _visited=True),\n",
       " FloorTile(x=48, y=104, _visited=True),\n",
       " FloorTile(x=48, y=144, _visited=False),\n",
       " FloorTile(x=48, y=16, _visited=True),\n",
       " FloorTile(x=48, y=24, _visited=True),\n",
       " FloorTile(x=48, y=32, _visited=True),\n",
       " FloorTile(x=48, y=40, _visited=True),\n",
       " FloorTile(x=48, y=48, _visited=True),\n",
       " FloorTile(x=48, y=56, _visited=True),\n",
       " FloorTile(x=48, y=64, _visited=True),\n",
       " FloorTile(x=48, y=72, _visited=True),\n",
       " FloorTile(x=48, y=8, _visited=False),\n",
       " FloorTile(x=48, y=80, _visited=True),\n",
       " FloorTile(x=48, y=88, _visited=True),\n",
       " FloorTile(x=48, y=96, _visited=True),\n",
       " FloorTile(x=56, y=104, _visited=True),\n",
       " FloorTile(x=56, y=144, _visited=False),\n",
       " FloorTile(x=56, y=16, _visited=True),\n",
       " FloorTile(x=56, y=24, _visited=False),\n",
       " FloorTile(x=56, y=32, _visited=False),\n",
       " FloorTile(x=56, y=40, _visited=False),\n",
       " FloorTile(x=56, y=56, _visited=False),\n",
       " FloorTile(x=56, y=64, _visited=False),\n",
       " FloorTile(x=56, y=72, _visited=True),\n",
       " FloorTile(x=56, y=8, _visited=False),\n",
       " FloorTile(x=56, y=80, _visited=True),\n",
       " FloorTile(x=56, y=88, _visited=True),\n",
       " FloorTile(x=56, y=96, _visited=True),\n",
       " FloorTile(x=64, y=104, _visited=True),\n",
       " FloorTile(x=64, y=144, _visited=False),\n",
       " FloorTile(x=64, y=16, _visited=False),\n",
       " FloorTile(x=64, y=24, _visited=False),\n",
       " FloorTile(x=64, y=32, _visited=False),\n",
       " FloorTile(x=64, y=40, _visited=False),\n",
       " FloorTile(x=64, y=56, _visited=False),\n",
       " FloorTile(x=64, y=64, _visited=False),\n",
       " FloorTile(x=64, y=72, _visited=True),\n",
       " FloorTile(x=64, y=8, _visited=False),\n",
       " FloorTile(x=64, y=80, _visited=True),\n",
       " FloorTile(x=64, y=88, _visited=True),\n",
       " FloorTile(x=64, y=96, _visited=True),\n",
       " FloorTile(x=72, y=104, _visited=True),\n",
       " FloorTile(x=72, y=144, _visited=False),\n",
       " FloorTile(x=72, y=56, _visited=False),\n",
       " FloorTile(x=72, y=64, _visited=False),\n",
       " FloorTile(x=72, y=72, _visited=True),\n",
       " FloorTile(x=72, y=80, _visited=True),\n",
       " FloorTile(x=72, y=88, _visited=True),\n",
       " FloorTile(x=72, y=96, _visited=True),\n",
       " FloorTile(x=8, y=16, _visited=False),\n",
       " FloorTile(x=8, y=24, _visited=False),\n",
       " FloorTile(x=8, y=32, _visited=False),\n",
       " FloorTile(x=8, y=40, _visited=False),\n",
       " FloorTile(x=8, y=8, _visited=False),\n",
       " FloorTile(x=80, y=72, _visited=True),\n",
       " FloorTile(x=80, y=88, _visited=True),\n",
       " FloorTile(x=88, y=136, _visited=False),\n",
       " FloorTile(x=88, y=144, _visited=False),\n",
       " FloorTile(x=88, y=40, _visited=False),\n",
       " FloorTile(x=88, y=48, _visited=False),\n",
       " FloorTile(x=88, y=56, _visited=False),\n",
       " FloorTile(x=88, y=64, _visited=False),\n",
       " FloorTile(x=88, y=72, _visited=True),\n",
       " FloorTile(x=88, y=80, _visited=True),\n",
       " FloorTile(x=88, y=88, _visited=True),\n",
       " FloorTile(x=96, y=136, _visited=False),\n",
       " FloorTile(x=96, y=40, _visited=False)}"
      ]
     },
     "execution_count": 81,
     "metadata": {},
     "output_type": "execute_result"
    }
   ],
   "source": [
    "player1.seen_floors"
   ]
  },
  {
   "cell_type": "code",
   "execution_count": 68,
   "id": "5a3876b5",
   "metadata": {},
   "outputs": [
    {
     "data": {
      "text/plain": [
       "[]"
      ]
     },
     "execution_count": 68,
     "metadata": {},
     "output_type": "execute_result"
    }
   ],
   "source": [
    "list(filter(lambda w: w.y == 72, player1.seen_walls))"
   ]
  },
  {
   "cell_type": "code",
   "execution_count": null,
   "id": "228e24e2",
   "metadata": {},
   "outputs": [
    {
     "name": "stdout",
     "output_type": "stream",
     "text": [
      "PLAYER CURRENTLY AT 88 136\n",
      "moving to 80 128\n",
      "PLAYER CURRENTLY AT 80 128\n",
      "moving to 80 120\n",
      "PLAYER CURRENTLY AT 80 120\n",
      "moving to 88 120\n",
      "PLAYER CURRENTLY AT 88 120\n",
      "moving to 96 120\n",
      "PLAYER CURRENTLY AT 96 120\n",
      "moving to 96 128\n",
      "PLAYER CURRENTLY AT 96 128\n",
      "moving to 96 136\n",
      "PLAYER CURRENTLY AT 96 136\n",
      "moving to 96 144\n",
      "PLAYER CURRENTLY AT 96 144\n",
      "moving to 96 152\n",
      "PLAYER CURRENTLY AT 96 152\n",
      "moving to 88 152\n",
      "PLAYER CURRENTLY AT 88 152\n",
      "moving to 80 152\n",
      "PLAYER CURRENTLY AT 80 152\n",
      "moving to 72 152\n",
      "PLAYER CURRENTLY AT 72 152\n",
      "moving to 72 144\n",
      "PLAYER CURRENTLY AT 72 144\n",
      "moving to 80 144\n",
      "PLAYER CURRENTLY AT 80 144\n",
      "moving to 88 144\n",
      "PLAYER CURRENTLY AT 88 144\n",
      "moving to 80 136\n",
      "PLAYER CURRENTLY AT 80 136\n",
      "moving to 72 136\n",
      "PLAYER CURRENTLY AT 72 136\n",
      "moving to 64 136\n",
      "PLAYER CURRENTLY AT 64 136\n",
      "moving to 64 144\n",
      "PLAYER CURRENTLY AT 64 144\n",
      "moving to 56 144\n",
      "PLAYER CURRENTLY AT 56 144\n",
      "moving to 56 152\n",
      "PLAYER CURRENTLY AT 56 152\n",
      "moving to 64 152\n",
      "PLAYER CURRENTLY AT 64 152\n",
      "moving to 56 160\n",
      "PLAYER CURRENTLY AT 56 160\n",
      "moving to 56 168\n",
      "PLAYER CURRENTLY AT 56 168\n",
      "Moving to 56 160\n",
      "PLAYER CURRENTLY AT 56 160\n",
      "moving to 56 136\n",
      "PLAYER CURRENTLY AT 56 136\n",
      "moving to 56 128\n",
      "PLAYER CURRENTLY AT 56 128\n",
      "moving to 64 128\n",
      "PLAYER CURRENTLY AT 64 128\n",
      "moving to 64 120\n",
      "PLAYER CURRENTLY AT 64 120\n",
      "moving to 72 120\n",
      "PLAYER CURRENTLY AT 72 120\n",
      "moving to 72 128\n",
      "PLAYER CURRENTLY AT 72 128\n",
      "Moving to 72 120\n",
      "PLAYER CURRENTLY AT 72 120\n",
      "moving to 72 104\n",
      "PLAYER CURRENTLY AT 72 104\n",
      "moving to 80 104\n",
      "PLAYER CURRENTLY AT 80 104\n",
      "moving to 88 104\n",
      "PLAYER CURRENTLY AT 88 104\n",
      "moving to 88 96\n",
      "PLAYER CURRENTLY AT 88 96\n",
      "moving to 88 88\n",
      "PLAYER CURRENTLY AT 88 88\n",
      "moving to 88 80\n",
      "PLAYER CURRENTLY AT 88 80\n",
      "moving to 80 80\n",
      "PLAYER CURRENTLY AT 80 80\n",
      "moving to 72 80\n",
      "PLAYER CURRENTLY AT 72 80\n",
      "moving to 72 72\n",
      "PLAYER CURRENTLY AT 72 72\n",
      "moving to 80 72\n",
      "PLAYER CURRENTLY AT 80 72\n",
      "moving to 88 72\n",
      "PLAYER CURRENTLY AT 88 72\n",
      "moving to 96 72\n",
      "PLAYER CURRENTLY AT 96 72\n",
      "moving to 96 80\n",
      "PLAYER CURRENTLY AT 96 80\n",
      "moving to 104 80\n",
      "PLAYER CURRENTLY AT 104 80\n",
      "moving to 112 80\n",
      "PLAYER CURRENTLY AT 112 80\n",
      "moving to 120 80\n",
      "PLAYER CURRENTLY AT 120 80\n",
      "moving to 120 88\n",
      "PLAYER CURRENTLY AT 120 88\n",
      "moving to 120 96\n",
      "PLAYER CURRENTLY AT 120 96\n",
      "moving to 120 104\n",
      "PLAYER CURRENTLY AT 120 104\n",
      "moving to 120 112\n",
      "PLAYER CURRENTLY AT 120 112\n",
      "moving to 128 112\n",
      "PLAYER CURRENTLY AT 128 112\n",
      "moving to 136 112\n",
      "PLAYER CURRENTLY AT 136 112\n",
      "moving to 136 120\n",
      "PLAYER CURRENTLY AT 136 120\n",
      "moving to 128 120\n",
      "PLAYER CURRENTLY AT 128 120\n",
      "moving to 128 128\n",
      "PLAYER CURRENTLY AT 128 128\n",
      "moving to 120 128\n",
      "PLAYER CURRENTLY AT 120 128\n",
      "moving to 120 120\n",
      "PLAYER CURRENTLY AT 120 120\n",
      "Moving to 120 128\n",
      "PLAYER CURRENTLY AT 120 128\n",
      "moving to 136 128\n",
      "PLAYER CURRENTLY AT 136 128\n",
      "Moving to 120 128\n",
      "PLAYER CURRENTLY AT 120 128\n",
      "Moving to 128 128\n",
      "PLAYER CURRENTLY AT 128 128\n",
      "Moving to 128 120\n",
      "PLAYER CURRENTLY AT 128 120\n",
      "Moving to 136 120\n",
      "PLAYER CURRENTLY AT 136 120\n",
      "moving to 136 104\n"
     ]
    }
   ],
   "source": [
    "# from random import randchoice\n",
    "from time import sleep\n",
    "import random\n",
    "\n",
    "while True:\n",
    "    for _2 in range(10):\n",
    "        update = player1.socket.recvfrom(player1.bufferSize)[0].decode('ascii') \n",
    "        player1.update(update)\n",
    "    \n",
    "\n",
    "    k = 9\n",
    "    nearest = player1.nearest_floors(9)\n",
    "    current = nearest[0]\n",
    "    current.visited = True\n",
    "    \n",
    "    player1.x = current.x\n",
    "    player1.y = current.y\n",
    "    print('PLAYER CURRENTLY AT', player1.x, player1.y)\n",
    "    \n",
    "    \n",
    "    k_nearest = nearest[1:]\n",
    "    \n",
    "    \n",
    "    unvisited = list(filter(lambda floor: not floor.visited, k_nearest))\n",
    "    \n",
    "    if len(unvisited):\n",
    "        unvisited[0].visited = True\n",
    "        print('moving to',unvisited[0].x, unvisited[0].y)\n",
    "        player1.move_to(unvisited[0].x, unvisited[0].y)\n",
    "    else:\n",
    "        last = player1.predecessors.get(f'{current.x},{current.y}', None)\n",
    "        if last is not None:\n",
    "            x,y = last.split(',')\n",
    "            print(\"Moving to\", x, y)\n",
    "            player1.move_to(int(x), int(y))\n",
    "        else:\n",
    "            print('Not working lol')\n",
    "            break\n",
    "    "
   ]
  },
  {
   "cell_type": "code",
   "execution_count": 7,
   "id": "9a1c1dc0",
   "metadata": {},
   "outputs": [
    {
     "name": "stdout",
     "output_type": "stream",
     "text": [
      "moving to 32 48\n",
      "moving to 32 56\n",
      "moving to 40 64\n",
      "moving to 40 72\n",
      "moving to 40 56\n",
      "moving to 48 48\n",
      "moving to 48 40\n",
      "moving to 56 48\n",
      "moving to 48 56\n",
      "moving to 40 48\n",
      "moving to 56 40\n",
      "moving to 56 32\n",
      "moving to 48 32\n",
      "moving to 48 24\n",
      "moving to 64 32\n",
      "moving to 72 40\n",
      "moving to 80 32\n",
      "moving to 80 24\n",
      "moving to 72 16\n",
      "moving to 72 32\n",
      "moving to 80 48\n",
      "moving to 72 48\n",
      "moving to 72 56\n",
      "moving to 80 56\n",
      "moving to 56 72\n",
      "moving to 56 56\n",
      "moving to 48 72\n",
      "moving to 56 64\n",
      "moving to 40 40\n",
      "moving to 40 24\n",
      "moving to 32 24\n",
      "moving to 24 32\n",
      "moving to 16 32\n",
      "moving to 8 32\n",
      "moving to 16 40\n",
      "moving to 24 40\n",
      "moving to 24 48\n",
      "moving to 16 56\n",
      "moving to 24 56\n",
      "moving to 16 64\n",
      "moving to 16 72\n",
      "moving to 8 72\n",
      "moving to 8 64\n",
      "moving to 16 48\n",
      "moving to 24 64\n",
      "moving to 8 56\n",
      "moving to 24 72\n",
      "moving to 32 72\n",
      "moving to 32 64\n",
      "moving to 8 40\n",
      "moving to 24 24\n",
      "moving to 40 32\n",
      "moving to 56 24\n",
      "moving to 16 24\n",
      "moving to 80 40\n",
      "moving to 8 24\n",
      "moving to 48 64\n",
      "moving to 72 24\n",
      "moving to 8 48\n",
      "moving to 88 32\n",
      "moving to 88 40\n",
      "moving to 88 48\n",
      "moving to 96 32\n",
      "moving to 96 48\n",
      "moving to 104 56\n",
      "moving to 88 56\n",
      "moving to 96 56\n",
      "moving to 96 72\n",
      "moving to 104 80\n",
      "moving to 96 88\n",
      "moving to 96 96\n",
      "moving to 104 88\n",
      "moving to 96 80\n",
      "moving to 88 80\n",
      "moving to 104 72\n",
      "moving to 88 72\n",
      "moving to 88 88\n",
      "moving to 112 80\n",
      "moving to 120 88\n",
      "moving to 112 96\n",
      "moving to 112 72\n",
      "moving to 112 88\n",
      "moving to 120 96\n",
      "moving to 104 96\n",
      "moving to 112 104\n",
      "moving to 120 104\n",
      "moving to 120 72\n",
      "moving to 136 72\n",
      "moving to 144 64\n",
      "moving to 152 72\n",
      "moving to 152 64\n",
      "moving to 144 72\n",
      "moving to 128 72\n",
      "moving to 128 56\n",
      "moving to 120 56\n",
      "moving to 120 40\n",
      "moving to 112 40\n",
      "moving to 112 48\n",
      "moving to 112 56\n",
      "moving to 120 64\n",
      "moving to 144 56\n",
      "moving to 152 56\n",
      "moving to 160 48\n",
      "moving to 168 48\n",
      "moving to 160 56\n",
      "moving to 168 56\n",
      "moving to 176 64\n",
      "moving to 168 64\n",
      "moving to 168 72\n",
      "moving to 184 72\n",
      "moving to 176 72\n",
      "moving to 184 80\n",
      "moving to 168 88\n",
      "moving to 176 88\n",
      "moving to 192 72\n",
      "moving to 192 64\n",
      "moving to 200 64\n",
      "moving to 200 48\n",
      "moving to 200 40\n",
      "moving to 192 40\n",
      "moving to 184 48\n",
      "moving to 192 48\n",
      "moving to 200 56\n",
      "moving to 200 72\n",
      "moving to 184 64\n",
      "moving to 192 56\n",
      "moving to 208 72\n",
      "moving to 224 64\n",
      "moving to 224 56\n",
      "moving to 232 48\n",
      "moving to 232 56\n",
      "moving to 240 64\n",
      "moving to 248 64\n",
      "moving to 240 56\n",
      "moving to 248 48\n",
      "moving to 240 40\n",
      "moving to 240 32\n",
      "moving to 248 24\n",
      "moving to 248 40\n",
      "moving to 248 56\n",
      "moving to 232 64\n",
      "moving to 232 80\n",
      "moving to 224 72\n",
      "moving to 216 64\n",
      "moving to 216 56\n",
      "moving to 216 72\n",
      "moving to 216 80\n",
      "moving to 240 72\n",
      "moving to 248 72\n",
      "moving to 248 80\n",
      "moving to 224 48\n",
      "moving to 224 32\n",
      "moving to 224 24\n",
      "moving to 216 24\n",
      "moving to 216 40\n",
      "moving to 232 40\n",
      "moving to 240 24\n",
      "moving to 240 48\n",
      "moving to 216 48\n",
      "moving to 192 32\n",
      "moving to 184 24\n",
      "moving to 184 40\n",
      "moving to 176 48\n",
      "moving to 176 56\n",
      "moving to 160 64\n",
      "moving to 160 88\n",
      "moving to 144 104\n",
      "moving to 152 96\n",
      "moving to 152 88\n",
      "moving to 136 112\n",
      "moving to 128 120\n",
      "moving to 128 136\n",
      "moving to 136 144\n",
      "moving to 136 136\n",
      "moving to 136 152\n",
      "moving to 128 144\n",
      "moving to 128 152\n",
      "moving to 120 144\n",
      "moving to 120 152\n",
      "moving to 120 136\n",
      "moving to 120 120\n",
      "moving to 104 128\n",
      "moving to 104 136\n",
      "moving to 112 120\n",
      "moving to 112 136\n",
      "moving to 88 128\n",
      "moving to 80 136\n",
      "moving to 88 136\n",
      "moving to 88 120\n",
      "moving to 104 120\n",
      "moving to 104 104\n",
      "moving to 96 104\n",
      "moving to 80 128\n",
      "moving to 80 120\n",
      "moving to 64 128\n",
      "moving to 64 120\n",
      "moving to 56 128\n",
      "moving to 56 120\n",
      "moving to 64 136\n",
      "moving to 56 136\n",
      "moving to 72 128\n",
      "moving to 64 144\n",
      "moving to 64 152\n",
      "moving to 56 144\n",
      "moving to 56 152\n",
      "moving to 64 160\n",
      "moving to 64 168\n",
      "moving to 80 168\n",
      "moving to 88 168\n",
      "moving to 80 176\n",
      "moving to 72 176\n",
      "moving to 80 160\n",
      "moving to 72 160\n",
      "moving to 72 168\n",
      "moving to 72 152\n",
      "moving to 88 152\n",
      "moving to 80 152\n",
      "moving to 88 144\n",
      "moving to 80 144\n",
      "moving to 72 144\n",
      "moving to 72 136\n",
      "moving to 56 160\n",
      "moving to 88 176\n",
      "moving to 120 168\n",
      "moving to 120 160\n",
      "moving to 136 160\n",
      "moving to 144 152\n",
      "moving to 152 160\n",
      "moving to 152 168\n",
      "moving to 144 160\n",
      "moving to 128 160\n",
      "moving to 144 168\n",
      "moving to 136 168\n",
      "moving to 152 152\n",
      "moving to 152 144\n",
      "moving to 152 136\n",
      "moving to 160 136\n",
      "moving to 144 136\n",
      "moving to 160 152\n",
      "moving to 168 152\n",
      "moving to 168 144\n",
      "moving to 168 136\n",
      "moving to 176 152\n",
      "moving to 176 160\n",
      "moving to 168 160\n",
      "moving to 168 168\n",
      "moving to 168 176\n",
      "moving to 176 168\n",
      "moving to 160 160\n",
      "moving to 160 184\n",
      "moving to 168 184\n",
      "moving to 168 200\n",
      "moving to 152 200\n",
      "moving to 152 184\n",
      "moving to 136 184\n",
      "moving to 128 168\n",
      "moving to 144 144\n",
      "moving to 136 176\n",
      "moving to 136 200\n",
      "moving to 136 208\n",
      "moving to 120 216\n",
      "moving to 120 224\n",
      "moving to 120 232\n",
      "moving to 128 232\n",
      "moving to 128 216\n",
      "moving to 152 216\n",
      "moving to 160 216\n",
      "moving to 168 224\n",
      "moving to 168 232\n",
      "moving to 168 240\n",
      "moving to 152 224\n",
      "moving to 136 216\n",
      "moving to 152 232\n",
      "moving to 184 232\n",
      "moving to 200 224\n",
      "moving to 200 216\n",
      "moving to 208 224\n",
      "moving to 208 216\n",
      "moving to 208 208\n",
      "moving to 216 208\n",
      "moving to 224 208\n",
      "moving to 224 224\n",
      "moving to 216 224\n",
      "moving to 224 216\n",
      "moving to 224 192\n",
      "moving to 216 184\n",
      "moving to 216 192\n",
      "moving to 224 200\n",
      "moving to 216 200\n",
      "moving to 200 200\n",
      "moving to 192 200\n",
      "moving to 184 200\n",
      "moving to 200 208\n",
      "moving to 184 208\n",
      "moving to 176 200\n",
      "moving to 168 216\n",
      "moving to 152 192\n",
      "moving to 184 216\n",
      "moving to 208 200\n",
      "moving to 216 216\n",
      "moving to 232 224\n",
      "moving to 232 208\n",
      "moving to 232 184\n",
      "moving to 224 176\n",
      "moving to 232 176\n",
      "moving to 208 176\n",
      "moving to 208 192\n",
      "moving to 200 184\n",
      "moving to 200 192\n",
      "moving to 224 184\n",
      "moving to 216 176\n",
      "moving to 232 216\n",
      "moving to 232 192\n",
      "moving to 184 240\n",
      "moving to 144 232\n",
      "moving to 160 200\n",
      "moving to 136 192\n",
      "moving to 104 208\n",
      "moving to 104 200\n",
      "moving to 104 216\n",
      "moving to 104 224\n",
      "moving to 136 232\n",
      "moving to 176 248\n",
      "moving to 184 224\n",
      "moving to 168 248\n"
     ]
    },
    {
     "ename": "KeyboardInterrupt",
     "evalue": "",
     "output_type": "error",
     "traceback": [
      "\u001B[0;31m---------------------------------------------------------------------------\u001B[0m",
      "\u001B[0;31mKeyboardInterrupt\u001B[0m                         Traceback (most recent call last)",
      "Input \u001B[0;32mIn [7]\u001B[0m, in \u001B[0;36m<cell line: 7>\u001B[0;34m()\u001B[0m\n\u001B[1;32m      7\u001B[0m \u001B[38;5;28;01mwhile\u001B[39;00m \u001B[38;5;28;01mTrue\u001B[39;00m:\n\u001B[1;32m      8\u001B[0m     \u001B[38;5;28;01mfor\u001B[39;00m _2 \u001B[38;5;129;01min\u001B[39;00m \u001B[38;5;28mrange\u001B[39m(\u001B[38;5;241m10\u001B[39m):\n\u001B[0;32m----> 9\u001B[0m         update \u001B[38;5;241m=\u001B[39m \u001B[43mplayer1\u001B[49m\u001B[38;5;241;43m.\u001B[39;49m\u001B[43msocket\u001B[49m\u001B[38;5;241;43m.\u001B[39;49m\u001B[43mrecvfrom\u001B[49m\u001B[43m(\u001B[49m\u001B[43mplayer1\u001B[49m\u001B[38;5;241;43m.\u001B[39;49m\u001B[43mbufferSize\u001B[49m\u001B[43m)\u001B[49m[\u001B[38;5;241m0\u001B[39m]\u001B[38;5;241m.\u001B[39mdecode(\u001B[38;5;124m'\u001B[39m\u001B[38;5;124mascii\u001B[39m\u001B[38;5;124m'\u001B[39m) \n\u001B[1;32m     10\u001B[0m         player1\u001B[38;5;241m.\u001B[39mupdate(update)\n\u001B[1;32m     13\u001B[0m     current \u001B[38;5;241m=\u001B[39m player1\u001B[38;5;241m.\u001B[39mnearest_floors(\u001B[38;5;241m1\u001B[39m)[\u001B[38;5;241m0\u001B[39m]\n",
      "\u001B[0;31mKeyboardInterrupt\u001B[0m: "
     ]
    }
   ],
   "source": [
    "import random\n",
    "\n",
    "for _2 in range(10):\n",
    "        update = player1.socket.recvfrom(player1.bufferSize)[0].decode('ascii') \n",
    "        player1.update(update)\n",
    "        \n",
    "while True:\n",
    "    for _2 in range(10):\n",
    "        update = player1.socket.recvfrom(player1.bufferSize)[0].decode('ascii') \n",
    "        player1.update(update)\n",
    "        \n",
    "        \n",
    "    current = player1.nearest_floors(1)[0]\n",
    "    current.visited = True\n",
    "    \n",
    "    player1.x = current.x\n",
    "    player1.y = current.y\n",
    "    \n",
    "    k_unvisited = player1.k_nearest_unvisited(5)\n",
    "    \n",
    "    if len(k_unvisited):\n",
    "        \n",
    "        to_visit = random.choice(k_unvisited)\n",
    "        to_visit.visited = True\n",
    "        print('moving to',to_visit.x, to_visit.y)\n",
    "        player1.move_to(to_visit.x, to_visit.y)\n",
    "    \n",
    "    \n",
    "    \n",
    "        "
   ]
  },
  {
   "cell_type": "code",
   "execution_count": 15,
   "id": "f9887f65",
   "metadata": {},
   "outputs": [
    {
     "data": {
      "text/plain": [
       "[FloorTile(x=144, y=200, _visited=True),\n",
       " FloorTile(x=152, y=200, _visited=True),\n",
       " FloorTile(x=136, y=200, _visited=True),\n",
       " FloorTile(x=144, y=192, _visited=True),\n",
       " FloorTile(x=136, y=192, _visited=True),\n",
       " FloorTile(x=152, y=192, _visited=True),\n",
       " FloorTile(x=136, y=208, _visited=True),\n",
       " FloorTile(x=144, y=184, _visited=True),\n",
       " FloorTile(x=160, y=200, _visited=True)]"
      ]
     },
     "execution_count": 15,
     "metadata": {},
     "output_type": "execute_result"
    }
   ],
   "source": [
    "player1.seen_floors\n",
    "nearest = player1.nearest_floors(9)\n",
    "nearest"
   ]
  },
  {
   "cell_type": "code",
   "execution_count": 18,
   "id": "d20e52fc",
   "metadata": {},
   "outputs": [
    {
     "name": "stdout",
     "output_type": "stream",
     "text": [
      "{'16,184': '8,192', '8,200': '8,192', '16,192': '8,192', '8,184': '8,192', '16,200': '8,192', '8,176': '8,192', '24,192': '8,192', '24,200': '8,192'}\n"
     ]
    }
   ],
   "source": [
    "# print(player1.seen_floors)\n",
    "print(player1.predecessors)"
   ]
  },
  {
   "cell_type": "code",
   "execution_count": 19,
   "id": "a93fc939",
   "metadata": {},
   "outputs": [
    {
     "data": {
      "text/plain": [
       "(8, 192)"
      ]
     },
     "execution_count": 19,
     "metadata": {},
     "output_type": "execute_result"
    }
   ],
   "source": [
    "player1.x, player1.y"
   ]
  },
  {
   "cell_type": "code",
   "execution_count": 4,
   "id": "cb6d217c",
   "metadata": {},
   "outputs": [],
   "source": [
    "for _ in range(10):\n",
    "    update = player1.socket.recvfrom(player1.bufferSize)[0].decode('ascii') \n",
    "    player1.update(update)"
   ]
  },
  {
   "cell_type": "code",
   "execution_count": 11,
   "id": "00507404",
   "metadata": {},
   "outputs": [
    {
     "data": {
      "text/plain": [
       "[FloorTile(x=8, y=216, _visited=False),\n",
       " FloorTile(x=16, y=216, _visited=False),\n",
       " FloorTile(x=8, y=208, _visited=False),\n",
       " FloorTile(x=16, y=208, _visited=False),\n",
       " FloorTile(x=24, y=216, _visited=False),\n",
       " FloorTile(x=8, y=200, _visited=False),\n",
       " FloorTile(x=16, y=200, _visited=False),\n",
       " FloorTile(x=24, y=208, _visited=False),\n",
       " FloorTile(x=24, y=200, _visited=False)]"
      ]
     },
     "execution_count": 11,
     "metadata": {},
     "output_type": "execute_result"
    }
   ],
   "source": [
    "player1.nearest_floors(9)"
   ]
  },
  {
   "cell_type": "code",
   "execution_count": 25,
   "id": "8e1028a1",
   "metadata": {},
   "outputs": [
    {
     "data": {
      "text/plain": [
       "{Item(type='food', x='104', y='24'),\n",
       " Item(type='food', x='120', y='48'),\n",
       " Item(type='redkey', x='144', y='32'),\n",
       " Item(type='treasure', x='128', y='40')}"
      ]
     },
     "execution_count": 25,
     "metadata": {},
     "output_type": "execute_result"
    }
   ],
   "source": [
    "player1.nearby_items"
   ]
  },
  {
   "cell_type": "code",
   "execution_count": 6,
   "id": "41c72fee",
   "metadata": {},
   "outputs": [
    {
     "name": "stdout",
     "output_type": "stream",
     "text": [
      "nearbyitem ['treasure', '88', '216', 'ammo', '80', '216', '']\n"
     ]
    }
   ],
   "source": [
    "player1.face_direction('e')\n",
    "update = player1.socket.recvfrom(player1.bufferSize)[0].decode('ascii') \n",
    "player1.update(update)"
   ]
  },
  {
   "cell_type": "code",
   "execution_count": null,
   "id": "fb5ca618",
   "metadata": {},
   "outputs": [],
   "source": []
  },
  {
   "cell_type": "code",
   "execution_count": 7,
   "id": "1853ef81",
   "metadata": {},
   "outputs": [
    {
     "name": "stdout",
     "output_type": "stream",
     "text": [
      "playerupdate ['112', '216', '1', '500', 'False']\n"
     ]
    }
   ],
   "source": [
    "player1.move_direction('e')\n",
    "update = player1.socket.recvfrom(player1.bufferSize)[0].decode('ascii') \n",
    "player1.update(update)"
   ]
  },
  {
   "cell_type": "code",
   "execution_count": 15,
   "id": "77031fca",
   "metadata": {},
   "outputs": [
    {
     "data": {
      "text/plain": [
       "[['treasure', '144', '40'],\n",
       " ['treasure', '144', '40'],\n",
       " ['ammo', '104', '56'],\n",
       " ['treasure', '144', '40'],\n",
       " ['treasure', '144', '40'],\n",
       " ['ammo', '104', '56'],\n",
       " ['treasure', '144', '40'],\n",
       " ['treasure', '144', '40'],\n",
       " ['ammo', '104', '56'],\n",
       " ['treasure', '144', '40'],\n",
       " ['treasure', '144', '40'],\n",
       " ['ammo', '104', '56'],\n",
       " ['treasure', '144', '40'],\n",
       " ['treasure', '144', '40'],\n",
       " ['ammo', '104', '56'],\n",
       " ['treasure', '144', '40'],\n",
       " ['treasure', '144', '40'],\n",
       " ['ammo', '104', '56'],\n",
       " ['treasure', '144', '40'],\n",
       " ['treasure', '144', '40'],\n",
       " ['ammo', '104', '56'],\n",
       " ['treasure', '144', '40'],\n",
       " ['treasure', '144', '40'],\n",
       " ['ammo', '104', '56'],\n",
       " ['treasure', '144', '40'],\n",
       " ['treasure', '144', '40'],\n",
       " ['ammo', '104', '56'],\n",
       " ['treasure', '144', '40'],\n",
       " ['treasure', '144', '40'],\n",
       " ['ammo', '104', '56'],\n",
       " ['treasure', '144', '40'],\n",
       " ['treasure', '144', '40'],\n",
       " ['ammo', '104', '56'],\n",
       " ['treasure', '144', '40'],\n",
       " ['treasure', '144', '40'],\n",
       " ['ammo', '104', '56'],\n",
       " ['treasure', '144', '40'],\n",
       " ['treasure', '144', '40'],\n",
       " ['ammo', '104', '56'],\n",
       " ['treasure', '144', '40'],\n",
       " ['treasure', '144', '40'],\n",
       " ['ammo', '104', '56'],\n",
       " ['treasure', '144', '40'],\n",
       " ['treasure', '144', '40'],\n",
       " ['ammo', '104', '56'],\n",
       " ['treasure', '144', '40'],\n",
       " ['treasure', '144', '40'],\n",
       " ['ammo', '104', '56'],\n",
       " ['treasure', '144', '40'],\n",
       " ['treasure', '144', '40'],\n",
       " ['ammo', '104', '56'],\n",
       " ['treasure', '144', '40'],\n",
       " ['treasure', '144', '40'],\n",
       " ['ammo', '104', '56'],\n",
       " ['treasure', '144', '40'],\n",
       " ['treasure', '144', '40'],\n",
       " ['ammo', '104', '56'],\n",
       " ['treasure', '144', '40'],\n",
       " ['treasure', '144', '40'],\n",
       " ['ammo', '104', '56'],\n",
       " ['treasure', '144', '40'],\n",
       " ['treasure', '144', '40'],\n",
       " ['ammo', '104', '56'],\n",
       " ['treasure', '144', '40'],\n",
       " ['treasure', '144', '40'],\n",
       " ['ammo', '104', '56'],\n",
       " ['treasure', '144', '40'],\n",
       " ['treasure', '144', '40'],\n",
       " ['ammo', '104', '56']]"
      ]
     },
     "execution_count": 15,
     "metadata": {},
     "output_type": "execute_result"
    }
   ],
   "source": [
    "player1.nearby_items"
   ]
  },
  {
   "cell_type": "code",
   "execution_count": 8,
   "id": "25112dcc",
   "metadata": {},
   "outputs": [],
   "source": [
    "player1.stop()"
   ]
  },
  {
   "cell_type": "code",
   "execution_count": 19,
   "id": "1343ebfe",
   "metadata": {},
   "outputs": [],
   "source": [
    "player1.move_to(24,216)"
   ]
  },
  {
   "cell_type": "code",
   "execution_count": 8,
   "id": "576d0936",
   "metadata": {},
   "outputs": [
    {
     "ename": "KeyboardInterrupt",
     "evalue": "",
     "output_type": "error",
     "traceback": [
      "\u001B[0;31m---------------------------------------------------------------------------\u001B[0m",
      "\u001B[0;31mKeyboardInterrupt\u001B[0m                         Traceback (most recent call last)",
      "Input \u001B[0;32mIn [8]\u001B[0m, in \u001B[0;36m<cell line: 1>\u001B[0;34m()\u001B[0m\n\u001B[1;32m      1\u001B[0m \u001B[38;5;28;01mwhile\u001B[39;00m \u001B[38;5;28;01mTrue\u001B[39;00m:\n\u001B[0;32m----> 2\u001B[0m     \u001B[38;5;28;01mif\u001B[39;00m \u001B[38;5;28;43mlen\u001B[39;49m\u001B[43m(\u001B[49m\u001B[43mplayer1\u001B[49m\u001B[38;5;241;43m.\u001B[39;49m\u001B[43mnearby_items\u001B[49m\u001B[43m)\u001B[49m:\n\u001B[1;32m      3\u001B[0m         item \u001B[38;5;241m=\u001B[39m player1\u001B[38;5;241m.\u001B[39mnearby_items\u001B[38;5;241m.\u001B[39mpop()\n\u001B[1;32m      4\u001B[0m         player1\u001B[38;5;241m.\u001B[39mmove_to(item[\u001B[38;5;241m0\u001B[39m],item[\u001B[38;5;241m1\u001B[39m])\n",
      "\u001B[0;31mKeyboardInterrupt\u001B[0m: "
     ]
    }
   ],
   "source": [
    "while True:\n",
    "    if len(player1.nearby_items):\n",
    "        item = player1.nearby_items.pop()\n",
    "        player1.move_to(item[0],item[1])"
   ]
  },
  {
   "cell_type": "code",
   "execution_count": 18,
   "id": "e84a1b59",
   "metadata": {},
   "outputs": [
    {
     "data": {
      "text/plain": [
       "[]"
      ]
     },
     "execution_count": 18,
     "metadata": {},
     "output_type": "execute_result"
    }
   ],
   "source": [
    "player1.nearby_items"
   ]
  },
  {
   "cell_type": "code",
   "execution_count": 47,
   "id": "4e1e6497",
   "metadata": {},
   "outputs": [
    {
     "data": {
      "text/plain": [
       "['bluekey', 'greenkey', '']"
      ]
     },
     "execution_count": 47,
     "metadata": {},
     "output_type": "execute_result"
    }
   ],
   "source": [
    "items = ['bluekey', '80', '72', 'greenkey', '112', '56', '']\n",
    "items[::]"
   ]
  },
  {
   "cell_type": "code",
   "execution_count": 51,
   "id": "bdfba867",
   "metadata": {},
   "outputs": [],
   "source": [
    "nearby = [] \n",
    "if len(items):\n",
    "    n_groups = (len(items)-1) // 3\n",
    "    \n",
    "    for i in range(n_groups):\n",
    "        \n",
    "        nearby.append(items[i*3:(i+1)*3])"
   ]
  },
  {
   "cell_type": "code",
   "execution_count": 52,
   "id": "5b4e3c94",
   "metadata": {},
   "outputs": [
    {
     "data": {
      "text/plain": [
       "[['bluekey', '80', '72'], ['greenkey', '112', '56']]"
      ]
     },
     "execution_count": 52,
     "metadata": {},
     "output_type": "execute_result"
    }
   ],
   "source": [
    "nearby"
   ]
  },
  {
   "cell_type": "code",
   "execution_count": 14,
   "id": "2ab69a4f",
   "metadata": {},
   "outputs": [],
   "source": [
    "if len(player1.nearby_items):\n",
    "    item = player1.nearby_items.pop()\n",
    "    player1.move_to(item[0],item[1])"
   ]
  },
  {
   "cell_type": "code",
   "execution_count": 15,
   "id": "c44a2359",
   "metadata": {},
   "outputs": [
    {
     "ename": "IndexError",
     "evalue": "pop from empty list",
     "output_type": "error",
     "traceback": [
      "\u001B[0;31m---------------------------------------------------------------------------\u001B[0m",
      "\u001B[0;31mIndexError\u001B[0m                                Traceback (most recent call last)",
      "Input \u001B[0;32mIn [15]\u001B[0m, in \u001B[0;36m<cell line: 1>\u001B[0;34m()\u001B[0m\n\u001B[0;32m----> 1\u001B[0m \u001B[43m[\u001B[49m\u001B[43m]\u001B[49m\u001B[38;5;241;43m.\u001B[39;49m\u001B[43mpop\u001B[49m\u001B[43m(\u001B[49m\u001B[43m)\u001B[49m\n",
      "\u001B[0;31mIndexError\u001B[0m: pop from empty list"
     ]
    }
   ],
   "source": []
  },
  {
   "cell_type": "code",
   "execution_count": 26,
   "id": "af8d590c",
   "metadata": {},
   "outputs": [
    {
     "data": {
      "text/plain": [
       "(168, 56)"
      ]
     },
     "execution_count": 26,
     "metadata": {},
     "output_type": "execute_result"
    }
   ],
   "source": [
    "player1.x, player1.y"
   ]
  },
  {
   "cell_type": "code",
   "execution_count": 56,
   "id": "32aa7a01",
   "metadata": {},
   "outputs": [],
   "source": [
    "player1.move_to(player1.x, player1.y)"
   ]
  },
  {
   "cell_type": "code",
   "execution_count": 6,
   "id": "f4d99616",
   "metadata": {},
   "outputs": [],
   "source": [
    "player1.face_direction(\"e\")\n",
    "player1.move_direction(\"e\")"
   ]
  },
  {
   "cell_type": "code",
   "execution_count": 7,
   "id": "9b19c082",
   "metadata": {},
   "outputs": [],
   "source": [
    "player1.stop()"
   ]
  },
  {
   "cell_type": "code",
   "execution_count": 112,
   "id": "0ab06d9c",
   "metadata": {},
   "outputs": [],
   "source": [
    "player1.face_direction(\"n\")\n",
    "player1.move_direction(\"n\")"
   ]
  },
  {
   "cell_type": "code",
   "execution_count": 94,
   "id": "c0c896d7",
   "metadata": {},
   "outputs": [
    {
     "data": {
      "text/plain": [
       "(16, 160)"
      ]
     },
     "execution_count": 94,
     "metadata": {},
     "output_type": "execute_result"
    }
   ],
   "source": [
    "player1.x, player1.y"
   ]
  },
  {
   "cell_type": "code",
   "execution_count": 117,
   "id": "3c881b9f",
   "metadata": {},
   "outputs": [],
   "source": [
    "player1.move_to(32, 160)"
   ]
  },
  {
   "cell_type": "code",
   "execution_count": 69,
   "id": "77ca24d6",
   "metadata": {},
   "outputs": [
    {
     "data": {
      "text/plain": [
       "[['treasure', '32', '160'],\n",
       " ['treasure', '32', '160'],\n",
       " ['food', '48', '168'],\n",
       " ['treasure', '32', '160'],\n",
       " ['food', '48', '168'],\n",
       " ['food', '8', '184'],\n",
       " ['treasure', '32', '160'],\n",
       " ['food', '48', '168'],\n",
       " ['food', '8', '184'],\n",
       " ['food', '32', '168'],\n",
       " ['treasure', '32', '160'],\n",
       " ['food', '48', '168'],\n",
       " ['food', '8', '184'],\n",
       " ['food', '32', '168'],\n",
       " ['ammo', '8', '152'],\n",
       " ['treasure', '32', '160'],\n",
       " ['treasure', '32', '160'],\n",
       " ['food', '48', '168'],\n",
       " ['treasure', '32', '160'],\n",
       " ['food', '48', '168'],\n",
       " ['food', '8', '184'],\n",
       " ['treasure', '32', '160'],\n",
       " ['food', '48', '168'],\n",
       " ['food', '8', '184'],\n",
       " ['food', '32', '168'],\n",
       " ['treasure', '32', '160'],\n",
       " ['food', '48', '168'],\n",
       " ['food', '8', '184'],\n",
       " ['food', '32', '168'],\n",
       " ['ammo', '8', '152'],\n",
       " ['treasure', '32', '160'],\n",
       " ['treasure', '32', '160'],\n",
       " ['food', '48', '168'],\n",
       " ['treasure', '32', '160'],\n",
       " ['food', '48', '168'],\n",
       " ['food', '8', '184']]"
      ]
     },
     "execution_count": 69,
     "metadata": {},
     "output_type": "execute_result"
    }
   ],
   "source": [
    "player1.nearby_items"
   ]
  },
  {
   "cell_type": "code",
   "execution_count": 84,
   "id": "ca4bf463",
   "metadata": {},
   "outputs": [],
   "source": [
    "player1.face_direction(\"w\")"
   ]
  },
  {
   "cell_type": "code",
   "execution_count": 12,
   "id": "a9814e5d",
   "metadata": {},
   "outputs": [],
   "source": [
    "player1.SendMessage(':')"
   ]
  },
  {
   "cell_type": "code",
   "execution_count": 18,
   "id": "91925fa9",
   "metadata": {},
   "outputs": [
    {
     "data": {
      "text/plain": [
       "[1, 2, 3]"
      ]
     },
     "execution_count": 18,
     "metadata": {},
     "output_type": "execute_result"
    }
   ],
   "source": [
    "a = set([1,1,2,3])\n",
    "sorted(a)"
   ]
  },
  {
   "cell_type": "code",
   "execution_count": 2,
   "id": "f2854e6d",
   "metadata": {},
   "outputs": [
    {
     "name": "stdout",
     "output_type": "stream",
     "text": [
      "joined with data ['wizard', 'lorne', '196', '132']\n",
      "joined with data ['elf', 'lorne1', '76', '140']\n"
     ]
    },
    {
     "ename": "KeyboardInterrupt",
     "evalue": "",
     "output_type": "error",
     "traceback": [
      "\u001B[0;31m---------------------------------------------------------------------------\u001B[0m",
      "\u001B[0;31mKeyboardInterrupt\u001B[0m                         Traceback (most recent call last)",
      "Input \u001B[0;32mIn [2]\u001B[0m, in \u001B[0;36m<cell line: 3>\u001B[0;34m()\u001B[0m\n\u001B[1;32m      1\u001B[0m Player\u001B[38;5;241m.\u001B[39mspawn((\u001B[38;5;124m\"\u001B[39m\u001B[38;5;124m10.211.55.4\u001B[39m\u001B[38;5;124m\"\u001B[39m, \u001B[38;5;241m11000\u001B[39m),\u001B[38;5;124m'\u001B[39m\u001B[38;5;124mlorne\u001B[39m\u001B[38;5;124m'\u001B[39m)\n\u001B[1;32m      2\u001B[0m Player\u001B[38;5;241m.\u001B[39mspawn((\u001B[38;5;124m\"\u001B[39m\u001B[38;5;124m10.211.55.4\u001B[39m\u001B[38;5;124m\"\u001B[39m, \u001B[38;5;241m11000\u001B[39m),\u001B[38;5;124m'\u001B[39m\u001B[38;5;124mlorne1\u001B[39m\u001B[38;5;124m'\u001B[39m)\n\u001B[0;32m----> 3\u001B[0m \u001B[43mPlayer\u001B[49m\u001B[38;5;241;43m.\u001B[39;49m\u001B[43mspawn\u001B[49m\u001B[43m(\u001B[49m\u001B[43m(\u001B[49m\u001B[38;5;124;43m\"\u001B[39;49m\u001B[38;5;124;43m10.211.55.4\u001B[39;49m\u001B[38;5;124;43m\"\u001B[39;49m\u001B[43m,\u001B[49m\u001B[43m \u001B[49m\u001B[38;5;241;43m11000\u001B[39;49m\u001B[43m)\u001B[49m\u001B[43m,\u001B[49m\u001B[38;5;124;43m'\u001B[39;49m\u001B[38;5;124;43mlorne2\u001B[39;49m\u001B[38;5;124;43m'\u001B[39;49m\u001B[43m)\u001B[49m\n",
      "File \u001B[0;32m~/Library/CloudStorage/OneDrive-UniversityofGlasgow/dyhtg-2022/Player.py:26\u001B[0m, in \u001B[0;36mPlayer.spawn\u001B[0;34m(cls, serverDetails, playerName)\u001B[0m\n\u001B[1;32m     23\u001B[0m     \u001B[38;5;28mprint\u001B[39m(\u001B[38;5;124m\"\u001B[39m\u001B[38;5;124mError creating socket: \u001B[39m\u001B[38;5;124m\"\u001B[39m, e)\n\u001B[1;32m     24\u001B[0m     sys\u001B[38;5;241m.\u001B[39mexit(\u001B[38;5;241m1\u001B[39m)\n\u001B[0;32m---> 26\u001B[0m \u001B[38;5;28;01mreturn\u001B[39;00m \u001B[43mPlayer\u001B[49m\u001B[43m(\u001B[49m\u001B[43mplayerName\u001B[49m\u001B[43m,\u001B[49m\u001B[43m \u001B[49m\u001B[43mserverDetails\u001B[49m\u001B[43m,\u001B[49m\u001B[43m \u001B[49m\u001B[43mUDPClientSocket\u001B[49m\u001B[43m)\u001B[49m\n",
      "File \u001B[0;32m~/Library/CloudStorage/OneDrive-UniversityofGlasgow/dyhtg-2022/Player.py:53\u001B[0m, in \u001B[0;36mPlayer.__init__\u001B[0;34m(self, playername, serverDetails, socket)\u001B[0m\n\u001B[1;32m     49\u001B[0m \u001B[38;5;28mself\u001B[39m\u001B[38;5;241m.\u001B[39mbufferSize \u001B[38;5;241m=\u001B[39m \u001B[38;5;241m1024\u001B[39m\n\u001B[1;32m     51\u001B[0m \u001B[38;5;28mself\u001B[39m\u001B[38;5;241m.\u001B[39mexit \u001B[38;5;241m=\u001B[39m \u001B[38;5;28;01mNone\u001B[39;00m\n\u001B[0;32m---> 53\u001B[0m \u001B[38;5;28;43mself\u001B[39;49m\u001B[38;5;241;43m.\u001B[39;49m\u001B[43mjoin\u001B[49m\u001B[43m(\u001B[49m\u001B[43m)\u001B[49m\n",
      "File \u001B[0;32m~/Library/CloudStorage/OneDrive-UniversityofGlasgow/dyhtg-2022/Player.py:75\u001B[0m, in \u001B[0;36mPlayer.join\u001B[0;34m(self)\u001B[0m\n\u001B[1;32m     72\u001B[0m \u001B[38;5;28mself\u001B[39m\u001B[38;5;241m.\u001B[39msocket\u001B[38;5;241m.\u001B[39msendto(join_bytes, \u001B[38;5;28mself\u001B[39m\u001B[38;5;241m.\u001B[39mserverDetails)\n\u001B[1;32m     74\u001B[0m \u001B[38;5;28;01mtry\u001B[39;00m:\n\u001B[0;32m---> 75\u001B[0m     update \u001B[38;5;241m=\u001B[39m \u001B[38;5;28;43mself\u001B[39;49m\u001B[38;5;241;43m.\u001B[39;49m\u001B[43msocket\u001B[49m\u001B[38;5;241;43m.\u001B[39;49m\u001B[43mrecvfrom\u001B[49m\u001B[43m(\u001B[49m\u001B[38;5;28;43mself\u001B[39;49m\u001B[38;5;241;43m.\u001B[39;49m\u001B[43mbufferSize\u001B[49m\u001B[43m)\u001B[49m[\u001B[38;5;241m0\u001B[39m]\u001B[38;5;241m.\u001B[39mdecode(\u001B[38;5;124m'\u001B[39m\u001B[38;5;124mascii\u001B[39m\u001B[38;5;124m'\u001B[39m)\n\u001B[1;32m     76\u001B[0m \u001B[38;5;28;01mexcept\u001B[39;00m \u001B[38;5;167;01mTimeoutError\u001B[39;00m:\n\u001B[1;32m     77\u001B[0m     \u001B[38;5;28mself\u001B[39m\u001B[38;5;241m.\u001B[39mjoined_server \u001B[38;5;241m=\u001B[39m \u001B[38;5;28;01mFalse\u001B[39;00m\n",
      "\u001B[0;31mKeyboardInterrupt\u001B[0m: "
     ]
    }
   ],
   "source": [
    "Player.spawn((\"10.211.55.4\", 11000),'lorne')\n",
    "Player.spawn((\"10.211.55.4\", 11000),'lorne1')\n",
    "Player.spawn((\"10.211.55.4\", 11000),'lorne2')"
   ]
  },
  {
   "cell_type": "code",
   "execution_count": null,
   "id": "ad3856ab",
   "metadata": {},
   "outputs": [],
   "source": []
  }
 ],
 "metadata": {
  "kernelspec": {
   "display_name": "Python 3 (ipykernel)",
   "language": "python",
   "name": "python3"
  },
  "language_info": {
   "codemirror_mode": {
    "name": "ipython",
    "version": 3
   },
   "file_extension": ".py",
   "mimetype": "text/x-python",
   "name": "python",
   "nbconvert_exporter": "python",
   "pygments_lexer": "ipython3",
   "version": "3.9.13"
  }
 },
 "nbformat": 4,
 "nbformat_minor": 5
}