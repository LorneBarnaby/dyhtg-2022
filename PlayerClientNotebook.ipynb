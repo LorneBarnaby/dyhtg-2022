{
 "cells": [
  {
   "cell_type": "code",
   "execution_count": 1,
   "id": "d4238830",
   "metadata": {},
   "outputs": [],
   "source": [
    "from Player import Player"
   ]
  },
  {
   "cell_type": "code",
   "execution_count": 2,
   "id": "c503998d",
   "metadata": {
    "scrolled": true
   },
   "outputs": [
    {
     "name": "stdout",
     "output_type": "stream",
     "text": [
      "playerjoined ['warrior', 'lorne', '4', '212']\n"
     ]
    }
   ],
   "source": [
    "player1 = Player.spawn((\"10.211.55.4\", 11000),'lorne')"
   ]
  },
  {
   "cell_type": "code",
   "execution_count": 6,
   "id": "2515112b",
   "metadata": {},
   "outputs": [
    {
     "data": {
      "text/plain": [
       "(4, 212)"
      ]
     },
     "execution_count": 6,
     "metadata": {},
     "output_type": "execute_result"
    }
   ],
   "source": [
    "player1.x, player1.y"
   ]
  },
  {
   "cell_type": "code",
   "execution_count": 7,
   "id": "0e0776a9",
   "metadata": {},
   "outputs": [],
   "source": [
    "player1.x+=4 \n",
    "player1.y+=4"
   ]
  },
  {
   "cell_type": "code",
   "execution_count": 15,
   "id": "cb6d217c",
   "metadata": {},
   "outputs": [
    {
     "name": "stdout",
     "output_type": "stream",
     "text": [
      "nearbywalls ['56', '240', '56', '208', '56', '192', '48', '240', '48', '232', '48', '224', '48', '208', '48', '200', '48', '192', '40', '224', '32', '224', '24', '224', '16', '224', '8', '224', '0', '224', '0', '208', '0', '216', '0', '192', '0', '200', '0', '176', '0', '184', '0', '168', '']\n",
      "nearbyfloors ['8', '168', '8', '176', '8', '184', '8', '192', '8', '200', '8', '208', '8', '216', '16', '168', '16', '176', '16', '184', '16', '192', '16', '200', '16', '208', '16', '216', '24', '168', '24', '176', '24', '184', '24', '192', '24', '200', '24', '208', '24', '216', '32', '176', '32', '184', '32', '192', '32', '200', '32', '208', '32', '216', '40', '184', '40', '192', '40', '200', '40', '208', '40', '216', '48', '216', '']\n",
      "playerupdate ['8', '216', '1', '5', 'False']\n",
      "playerupdate ['8', '216', '1', '5', 'False']\n",
      "playerupdate ['8', '216', '1', '5', 'False']\n",
      "playerupdate ['8', '216', '1', '5', 'False']\n",
      "nearbywalls ['56', '240', '56', '208', '56', '192', '48', '240', '48', '232', '48', '224', '48', '208', '48', '200', '48', '192', '40', '224', '32', '224', '24', '224', '16', '224', '8', '224', '0', '224', '0', '208', '0', '216', '0', '192', '0', '200', '0', '176', '0', '184', '0', '168', '']\n",
      "nearbyfloors ['8', '168', '8', '176', '8', '184', '8', '192', '8', '200', '8', '208', '8', '216', '16', '168', '16', '176', '16', '184', '16', '192', '16', '200', '16', '208', '16', '216', '24', '168', '24', '176', '24', '184', '24', '192', '24', '200', '24', '208', '24', '216', '32', '176', '32', '184', '32', '192', '32', '200', '32', '208', '32', '216', '40', '184', '40', '192', '40', '200', '40', '208', '40', '216', '48', '216', '']\n",
      "playerupdate ['8', '216', '1', '5', 'False']\n",
      "playerupdate ['8', '216', '1', '5', 'False']\n"
     ]
    }
   ],
   "source": [
    "for _ in range(10):\n",
    "    update = player1.socket.recvfrom(player1.bufferSize)[0].decode('ascii') \n",
    "    player1.update(update)"
   ]
  },
  {
   "cell_type": "code",
   "execution_count": 11,
   "id": "ecefffa4",
   "metadata": {},
   "outputs": [
    {
     "data": {
      "text/plain": [
       "[FloorTile(x=8, y=216, _visited=False),\n",
       " FloorTile(x=16, y=216, _visited=False),\n",
       " FloorTile(x=8, y=208, _visited=False),\n",
       " FloorTile(x=16, y=208, _visited=False),\n",
       " FloorTile(x=24, y=216, _visited=False),\n",
       " FloorTile(x=8, y=200, _visited=False),\n",
       " FloorTile(x=16, y=200, _visited=False),\n",
       " FloorTile(x=24, y=208, _visited=False),\n",
       " FloorTile(x=24, y=200, _visited=False)]"
      ]
     },
     "execution_count": 11,
     "metadata": {},
     "output_type": "execute_result"
    }
   ],
   "source": [
    "player1.nearest_floors(9)"
   ]
  },
  {
   "cell_type": "code",
   "execution_count": 6,
   "id": "41c72fee",
   "metadata": {},
   "outputs": [
    {
     "name": "stdout",
     "output_type": "stream",
     "text": [
      "nearbyitem ['treasure', '88', '216', 'ammo', '80', '216', '']\n"
     ]
    }
   ],
   "source": [
    "player1.face_direction('e')\n",
    "update = player1.socket.recvfrom(player1.bufferSize)[0].decode('ascii') \n",
    "player1.update(update)"
   ]
  },
  {
   "cell_type": "code",
   "execution_count": null,
   "id": "1763a3a6",
   "metadata": {},
   "outputs": [],
   "source": []
  },
  {
   "cell_type": "code",
   "execution_count": 7,
   "id": "1853ef81",
   "metadata": {},
   "outputs": [
    {
     "name": "stdout",
     "output_type": "stream",
     "text": [
      "playerupdate ['112', '216', '1', '500', 'False']\n"
     ]
    }
   ],
   "source": [
    "player1.move_direction('e')\n",
    "update = player1.socket.recvfrom(player1.bufferSize)[0].decode('ascii') \n",
    "player1.update(update)"
   ]
  },
  {
   "cell_type": "code",
   "execution_count": 15,
   "id": "77031fca",
   "metadata": {},
   "outputs": [
    {
     "data": {
      "text/plain": [
       "[['treasure', '144', '40'],\n",
       " ['treasure', '144', '40'],\n",
       " ['ammo', '104', '56'],\n",
       " ['treasure', '144', '40'],\n",
       " ['treasure', '144', '40'],\n",
       " ['ammo', '104', '56'],\n",
       " ['treasure', '144', '40'],\n",
       " ['treasure', '144', '40'],\n",
       " ['ammo', '104', '56'],\n",
       " ['treasure', '144', '40'],\n",
       " ['treasure', '144', '40'],\n",
       " ['ammo', '104', '56'],\n",
       " ['treasure', '144', '40'],\n",
       " ['treasure', '144', '40'],\n",
       " ['ammo', '104', '56'],\n",
       " ['treasure', '144', '40'],\n",
       " ['treasure', '144', '40'],\n",
       " ['ammo', '104', '56'],\n",
       " ['treasure', '144', '40'],\n",
       " ['treasure', '144', '40'],\n",
       " ['ammo', '104', '56'],\n",
       " ['treasure', '144', '40'],\n",
       " ['treasure', '144', '40'],\n",
       " ['ammo', '104', '56'],\n",
       " ['treasure', '144', '40'],\n",
       " ['treasure', '144', '40'],\n",
       " ['ammo', '104', '56'],\n",
       " ['treasure', '144', '40'],\n",
       " ['treasure', '144', '40'],\n",
       " ['ammo', '104', '56'],\n",
       " ['treasure', '144', '40'],\n",
       " ['treasure', '144', '40'],\n",
       " ['ammo', '104', '56'],\n",
       " ['treasure', '144', '40'],\n",
       " ['treasure', '144', '40'],\n",
       " ['ammo', '104', '56'],\n",
       " ['treasure', '144', '40'],\n",
       " ['treasure', '144', '40'],\n",
       " ['ammo', '104', '56'],\n",
       " ['treasure', '144', '40'],\n",
       " ['treasure', '144', '40'],\n",
       " ['ammo', '104', '56'],\n",
       " ['treasure', '144', '40'],\n",
       " ['treasure', '144', '40'],\n",
       " ['ammo', '104', '56'],\n",
       " ['treasure', '144', '40'],\n",
       " ['treasure', '144', '40'],\n",
       " ['ammo', '104', '56'],\n",
       " ['treasure', '144', '40'],\n",
       " ['treasure', '144', '40'],\n",
       " ['ammo', '104', '56'],\n",
       " ['treasure', '144', '40'],\n",
       " ['treasure', '144', '40'],\n",
       " ['ammo', '104', '56'],\n",
       " ['treasure', '144', '40'],\n",
       " ['treasure', '144', '40'],\n",
       " ['ammo', '104', '56'],\n",
       " ['treasure', '144', '40'],\n",
       " ['treasure', '144', '40'],\n",
       " ['ammo', '104', '56'],\n",
       " ['treasure', '144', '40'],\n",
       " ['treasure', '144', '40'],\n",
       " ['ammo', '104', '56'],\n",
       " ['treasure', '144', '40'],\n",
       " ['treasure', '144', '40'],\n",
       " ['ammo', '104', '56'],\n",
       " ['treasure', '144', '40'],\n",
       " ['treasure', '144', '40'],\n",
       " ['ammo', '104', '56']]"
      ]
     },
     "execution_count": 15,
     "metadata": {},
     "output_type": "execute_result"
    }
   ],
   "source": [
    "player1.nearby_items"
   ]
  },
  {
   "cell_type": "code",
   "execution_count": 8,
   "id": "25112dcc",
   "metadata": {},
   "outputs": [],
   "source": [
    "player1.stop()"
   ]
  },
  {
   "cell_type": "code",
   "execution_count": 15,
   "id": "1343ebfe",
   "metadata": {},
   "outputs": [],
   "source": [
    "player1.move_to(80,184)"
   ]
  },
  {
   "cell_type": "code",
   "execution_count": 8,
   "id": "576d0936",
   "metadata": {},
   "outputs": [
    {
     "ename": "KeyboardInterrupt",
     "evalue": "",
     "output_type": "error",
     "traceback": [
      "\u001B[0;31m---------------------------------------------------------------------------\u001B[0m",
      "\u001B[0;31mKeyboardInterrupt\u001B[0m                         Traceback (most recent call last)",
      "Input \u001B[0;32mIn [8]\u001B[0m, in \u001B[0;36m<cell line: 1>\u001B[0;34m()\u001B[0m\n\u001B[1;32m      1\u001B[0m \u001B[38;5;28;01mwhile\u001B[39;00m \u001B[38;5;28;01mTrue\u001B[39;00m:\n\u001B[0;32m----> 2\u001B[0m     \u001B[38;5;28;01mif\u001B[39;00m \u001B[38;5;28;43mlen\u001B[39;49m\u001B[43m(\u001B[49m\u001B[43mplayer1\u001B[49m\u001B[38;5;241;43m.\u001B[39;49m\u001B[43mnearby_items\u001B[49m\u001B[43m)\u001B[49m:\n\u001B[1;32m      3\u001B[0m         item \u001B[38;5;241m=\u001B[39m player1\u001B[38;5;241m.\u001B[39mnearby_items\u001B[38;5;241m.\u001B[39mpop()\n\u001B[1;32m      4\u001B[0m         player1\u001B[38;5;241m.\u001B[39mmove_to(item[\u001B[38;5;241m0\u001B[39m],item[\u001B[38;5;241m1\u001B[39m])\n",
      "\u001B[0;31mKeyboardInterrupt\u001B[0m: "
     ]
    }
   ],
   "source": [
    "while True:\n",
    "    if len(player1.nearby_items):\n",
    "        item = player1.nearby_items.pop()\n",
    "        player1.move_to(item[0],item[1])"
   ]
  },
  {
   "cell_type": "code",
   "execution_count": 18,
   "id": "e84a1b59",
   "metadata": {},
   "outputs": [
    {
     "data": {
      "text/plain": [
       "[]"
      ]
     },
     "execution_count": 18,
     "metadata": {},
     "output_type": "execute_result"
    }
   ],
   "source": [
    "player1.nearby_items"
   ]
  },
  {
   "cell_type": "code",
   "execution_count": 47,
   "id": "4e1e6497",
   "metadata": {},
   "outputs": [
    {
     "data": {
      "text/plain": [
       "['bluekey', 'greenkey', '']"
      ]
     },
     "execution_count": 47,
     "metadata": {},
     "output_type": "execute_result"
    }
   ],
   "source": [
    "items = ['bluekey', '80', '72', 'greenkey', '112', '56', '']\n",
    "items[::]"
   ]
  },
  {
   "cell_type": "code",
   "execution_count": 51,
   "id": "bdfba867",
   "metadata": {},
   "outputs": [],
   "source": [
    "nearby = [] \n",
    "if len(items):\n",
    "    n_groups = (len(items)-1) // 3\n",
    "    \n",
    "    for i in range(n_groups):\n",
    "        \n",
    "        nearby.append(items[i*3:(i+1)*3])"
   ]
  },
  {
   "cell_type": "code",
   "execution_count": 52,
   "id": "5b4e3c94",
   "metadata": {},
   "outputs": [
    {
     "data": {
      "text/plain": [
       "[['bluekey', '80', '72'], ['greenkey', '112', '56']]"
      ]
     },
     "execution_count": 52,
     "metadata": {},
     "output_type": "execute_result"
    }
   ],
   "source": [
    "nearby"
   ]
  },
  {
   "cell_type": "code",
   "execution_count": 14,
   "id": "2ab69a4f",
   "metadata": {},
   "outputs": [],
   "source": [
    "if len(player1.nearby_items):\n",
    "    item = player1.nearby_items.pop()\n",
    "    player1.move_to(item[0],item[1])"
   ]
  },
  {
   "cell_type": "code",
   "execution_count": 15,
   "id": "c44a2359",
   "metadata": {},
   "outputs": [
    {
     "ename": "IndexError",
     "evalue": "pop from empty list",
     "output_type": "error",
     "traceback": [
      "\u001B[0;31m---------------------------------------------------------------------------\u001B[0m",
      "\u001B[0;31mIndexError\u001B[0m                                Traceback (most recent call last)",
      "Input \u001B[0;32mIn [15]\u001B[0m, in \u001B[0;36m<cell line: 1>\u001B[0;34m()\u001B[0m\n\u001B[0;32m----> 1\u001B[0m \u001B[43m[\u001B[49m\u001B[43m]\u001B[49m\u001B[38;5;241;43m.\u001B[39;49m\u001B[43mpop\u001B[49m\u001B[43m(\u001B[49m\u001B[43m)\u001B[49m\n",
      "\u001B[0;31mIndexError\u001B[0m: pop from empty list"
     ]
    }
   ],
   "source": []
  },
  {
   "cell_type": "code",
   "execution_count": 26,
   "id": "af8d590c",
   "metadata": {},
   "outputs": [
    {
     "data": {
      "text/plain": [
       "(168, 56)"
      ]
     },
     "execution_count": 26,
     "metadata": {},
     "output_type": "execute_result"
    }
   ],
   "source": [
    "player1.x, player1.y"
   ]
  },
  {
   "cell_type": "code",
   "execution_count": 56,
   "id": "32aa7a01",
   "metadata": {},
   "outputs": [],
   "source": [
    "player1.move_to(player1.x, player1.y)"
   ]
  },
  {
   "cell_type": "code",
   "execution_count": 6,
   "id": "f4d99616",
   "metadata": {},
   "outputs": [],
   "source": [
    "player1.face_direction(\"e\")\n",
    "player1.move_direction(\"e\")"
   ]
  },
  {
   "cell_type": "code",
   "execution_count": 7,
   "id": "9b19c082",
   "metadata": {},
   "outputs": [],
   "source": [
    "player1.stop()"
   ]
  },
  {
   "cell_type": "code",
   "execution_count": 112,
   "id": "0ab06d9c",
   "metadata": {},
   "outputs": [],
   "source": [
    "player1.face_direction(\"n\")\n",
    "player1.move_direction(\"n\")"
   ]
  },
  {
   "cell_type": "code",
   "execution_count": 94,
   "id": "c0c896d7",
   "metadata": {},
   "outputs": [
    {
     "data": {
      "text/plain": [
       "(16, 160)"
      ]
     },
     "execution_count": 94,
     "metadata": {},
     "output_type": "execute_result"
    }
   ],
   "source": [
    "player1.x, player1.y"
   ]
  },
  {
   "cell_type": "code",
   "execution_count": 117,
   "id": "3c881b9f",
   "metadata": {},
   "outputs": [],
   "source": [
    "player1.move_to(32, 160)"
   ]
  },
  {
   "cell_type": "code",
   "execution_count": 69,
   "id": "77ca24d6",
   "metadata": {},
   "outputs": [
    {
     "data": {
      "text/plain": [
       "[['treasure', '32', '160'],\n",
       " ['treasure', '32', '160'],\n",
       " ['food', '48', '168'],\n",
       " ['treasure', '32', '160'],\n",
       " ['food', '48', '168'],\n",
       " ['food', '8', '184'],\n",
       " ['treasure', '32', '160'],\n",
       " ['food', '48', '168'],\n",
       " ['food', '8', '184'],\n",
       " ['food', '32', '168'],\n",
       " ['treasure', '32', '160'],\n",
       " ['food', '48', '168'],\n",
       " ['food', '8', '184'],\n",
       " ['food', '32', '168'],\n",
       " ['ammo', '8', '152'],\n",
       " ['treasure', '32', '160'],\n",
       " ['treasure', '32', '160'],\n",
       " ['food', '48', '168'],\n",
       " ['treasure', '32', '160'],\n",
       " ['food', '48', '168'],\n",
       " ['food', '8', '184'],\n",
       " ['treasure', '32', '160'],\n",
       " ['food', '48', '168'],\n",
       " ['food', '8', '184'],\n",
       " ['food', '32', '168'],\n",
       " ['treasure', '32', '160'],\n",
       " ['food', '48', '168'],\n",
       " ['food', '8', '184'],\n",
       " ['food', '32', '168'],\n",
       " ['ammo', '8', '152'],\n",
       " ['treasure', '32', '160'],\n",
       " ['treasure', '32', '160'],\n",
       " ['food', '48', '168'],\n",
       " ['treasure', '32', '160'],\n",
       " ['food', '48', '168'],\n",
       " ['food', '8', '184']]"
      ]
     },
     "execution_count": 69,
     "metadata": {},
     "output_type": "execute_result"
    }
   ],
   "source": [
    "player1.nearby_items"
   ]
  },
  {
   "cell_type": "code",
   "execution_count": 84,
   "id": "ca4bf463",
   "metadata": {},
   "outputs": [],
   "source": [
    "player1.face_direction(\"w\")"
   ]
  },
  {
   "cell_type": "code",
   "execution_count": 12,
   "id": "a9814e5d",
   "metadata": {},
   "outputs": [],
   "source": [
    "player1.SendMessage(':')"
   ]
  },
  {
   "cell_type": "code",
   "execution_count": 18,
   "id": "0d3e5bbb",
   "metadata": {},
   "outputs": [
    {
     "data": {
      "text/plain": [
       "[1, 2, 3]"
      ]
     },
     "execution_count": 18,
     "metadata": {},
     "output_type": "execute_result"
    }
   ],
   "source": [
    "a = set([1,1,2,3])\n",
    "sorted(a)"
   ]
  },
  {
   "cell_type": "code",
   "execution_count": null,
   "id": "bdee2f8b",
   "metadata": {},
   "outputs": [],
   "source": []
  }
 ],
 "metadata": {
  "kernelspec": {
   "display_name": "Python 3 (ipykernel)",
   "language": "python",
   "name": "python3"
  },
  "language_info": {
   "codemirror_mode": {
    "name": "ipython",
    "version": 3
   },
   "file_extension": ".py",
   "mimetype": "text/x-python",
   "name": "python",
   "nbconvert_exporter": "python",
   "pygments_lexer": "ipython3",
   "version": "3.10.4"
  }
 },
 "nbformat": 4,
 "nbformat_minor": 5
}