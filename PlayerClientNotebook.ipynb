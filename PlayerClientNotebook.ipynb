{
 "cells": [
  {
   "cell_type": "code",
   "execution_count": 52,
   "id": "d4238830",
   "metadata": {},
   "outputs": [],
   "source": [
    "from Player import Player"
   ]
  },
  {
   "cell_type": "code",
   "execution_count": 53,
   "id": "c503998d",
   "metadata": {},
   "outputs": [
    {
     "name": "stdout",
     "output_type": "stream",
     "text": [
      "playerjoined ['warrior', 'mydisplayname', '36', '124']\n"
     ]
    }
   ],
   "source": [
    "player1 = Player.spawn((\"10.211.55.4\", 11000),'lorne')"
   ]
  },
  {
   "cell_type": "code",
   "execution_count": 54,
   "id": "2515112b",
   "metadata": {},
   "outputs": [
    {
     "data": {
      "text/plain": [
       "(36, 124)"
      ]
     },
     "execution_count": 54,
     "metadata": {},
     "output_type": "execute_result"
    }
   ],
   "source": [
    "player1.x, player1.y"
   ]
  },
  {
   "cell_type": "code",
   "execution_count": 55,
   "id": "715866eb",
   "metadata": {},
   "outputs": [
    {
     "name": "stdout",
     "output_type": "stream",
     "text": [
      "playerupdate ['40', '128', '2', '500', 'False']\n",
      "playerupdate ['40', '128', '2', '500', 'False']\n",
      "playerupdate ['40', '128', '2', '500', 'False']\n",
      "playerupdate ['40', '128', '2', '500', 'False']\n",
      "nearbywalls ['88', '152', '72', '160', '72', '152', '72', '88', '64', '160', '64', '152', '64', '88', '64', '80', '56', '160', '56', '152', '56', '88', '56', '80', '48', '176', '48', '168', '48', '160', '48', '152', '48', '88', '48', '80', '40', '152', '32', '152', '32', '144', '32', '136', '32', '128', '32', '120', '32', '112', '32', '104', '32', '96', '32', '88', '32', '80', '']\n",
      "nearbyfloors ['40', '80', '40', '88', '40', '96', '40', '104', '40', '112', '40', '120', '40', '128', '40', '136', '40', '144', '48', '96', '48', '104', '48', '112', '48', '120', '48', '128', '48', '136', '48', '144', '56', '96', '56', '104', '56', '112', '56', '120', '56', '128', '56', '136', '56', '144', '56', '168', '64', '96', '64', '104', '64', '112', '64', '120', '64', '128', '64', '136', '64', '144', '72', '96', '72', '104', '72', '112', '72', '120', '72', '128', '72', '136', '72', '144', '80', '104', '80', '112', '80', '120', '80', '128', '80', '136', '80', '144', '']\n",
      "playerupdate ['40', '128', '2', '500', 'False']\n",
      "playerupdate ['40', '128', '2', '500', 'False']\n",
      "playerupdate ['40', '128', '2', '500', 'False']\n",
      "playerupdate ['40', '128', '2', '500', 'False']\n"
     ]
    }
   ],
   "source": [
    "for _ in range(10):\n",
    "    update = player1.socket.recvfrom(player1.bufferSize)[0].decode('ascii') \n",
    "    player1.update(update)"
   ]
  },
  {
   "cell_type": "code",
   "execution_count": 19,
   "id": "41ef653c",
   "metadata": {},
   "outputs": [
    {
     "name": "stdout",
     "output_type": "stream",
     "text": [
      "playerupdate ['168', '56', '1', '500', 'False']\n"
     ]
    }
   ],
   "source": [
    "player1.face_direction('e')\n",
    "update = player1.socket.recvfrom(player1.bufferSize)[0].decode('ascii') \n",
    "player1.update(update)"
   ]
  },
  {
   "cell_type": "code",
   "execution_count": 11,
   "id": "228bdfb7",
   "metadata": {},
   "outputs": [
    {
     "name": "stdout",
     "output_type": "stream",
     "text": [
      "nearbyitem ['treasure', '80', '184', 'treasure', '80', '184', '']\n"
     ]
    }
   ],
   "source": [
    "player1.move_direction('e')\n",
    "update = player1.socket.recvfrom(player1.bufferSize)[0].decode('ascii') \n",
    "player1.update(update)"
   ]
  },
  {
   "cell_type": "code",
   "execution_count": 13,
   "id": "6b369377",
   "metadata": {},
   "outputs": [
    {
     "data": {
      "text/plain": [
       "[['treasure', '56', '80'], ['treasure', '56', '80'], ['treasure', '56', '80']]"
      ]
     },
     "execution_count": 13,
     "metadata": {},
     "output_type": "execute_result"
    }
   ],
   "source": [
    "player1.nearby_items"
   ]
  },
  {
   "cell_type": "code",
   "execution_count": 13,
   "id": "fde56dc7",
   "metadata": {},
   "outputs": [],
   "source": [
    "player1.stop()"
   ]
  },
  {
   "cell_type": "code",
   "execution_count": 15,
   "id": "8bdf6351",
   "metadata": {},
   "outputs": [],
   "source": [
    "player1.move_to(80,184)"
   ]
  },
  {
   "cell_type": "code",
   "execution_count": 8,
   "id": "5d127c79",
   "metadata": {},
   "outputs": [
    {
     "ename": "KeyboardInterrupt",
     "evalue": "",
     "output_type": "error",
     "traceback": [
      "\u001b[0;31m---------------------------------------------------------------------------\u001b[0m",
      "\u001b[0;31mKeyboardInterrupt\u001b[0m                         Traceback (most recent call last)",
      "Input \u001b[0;32mIn [8]\u001b[0m, in \u001b[0;36m<cell line: 1>\u001b[0;34m()\u001b[0m\n\u001b[1;32m      1\u001b[0m \u001b[38;5;28;01mwhile\u001b[39;00m \u001b[38;5;28;01mTrue\u001b[39;00m:\n\u001b[0;32m----> 2\u001b[0m     \u001b[38;5;28;01mif\u001b[39;00m \u001b[38;5;28;43mlen\u001b[39;49m\u001b[43m(\u001b[49m\u001b[43mplayer1\u001b[49m\u001b[38;5;241;43m.\u001b[39;49m\u001b[43mnearby_items\u001b[49m\u001b[43m)\u001b[49m:\n\u001b[1;32m      3\u001b[0m         item \u001b[38;5;241m=\u001b[39m player1\u001b[38;5;241m.\u001b[39mnearby_items\u001b[38;5;241m.\u001b[39mpop()\n\u001b[1;32m      4\u001b[0m         player1\u001b[38;5;241m.\u001b[39mmove_to(item[\u001b[38;5;241m0\u001b[39m],item[\u001b[38;5;241m1\u001b[39m])\n",
      "\u001b[0;31mKeyboardInterrupt\u001b[0m: "
     ]
    }
   ],
   "source": [
    "while True:\n",
    "    if len(player1.nearby_items):\n",
    "        item = player1.nearby_items.pop()\n",
    "        player1.move_to(item[0],item[1])"
   ]
  },
  {
   "cell_type": "code",
   "execution_count": 18,
   "id": "b0bdd0c3",
   "metadata": {},
   "outputs": [
    {
     "data": {
      "text/plain": [
       "[]"
      ]
     },
     "execution_count": 18,
     "metadata": {},
     "output_type": "execute_result"
    }
   ],
   "source": [
    "player1.nearby_items"
   ]
  },
  {
   "cell_type": "code",
   "execution_count": 47,
   "id": "1f57fea5",
   "metadata": {},
   "outputs": [
    {
     "data": {
      "text/plain": [
       "['bluekey', 'greenkey', '']"
      ]
     },
     "execution_count": 47,
     "metadata": {},
     "output_type": "execute_result"
    }
   ],
   "source": [
    "items = ['bluekey', '80', '72', 'greenkey', '112', '56', '']\n",
    "items[::]"
   ]
  },
  {
   "cell_type": "code",
   "execution_count": 51,
   "id": "cb4b7ac0",
   "metadata": {},
   "outputs": [],
   "source": [
    "nearby = [] \n",
    "if len(items):\n",
    "    n_groups = (len(items)-1) // 3\n",
    "    \n",
    "    for i in range(n_groups):\n",
    "        \n",
    "        nearby.append(items[i*3:(i+1)*3])"
   ]
  },
  {
   "cell_type": "code",
   "execution_count": 52,
   "id": "932b7bd3",
   "metadata": {},
   "outputs": [
    {
     "data": {
      "text/plain": [
       "[['bluekey', '80', '72'], ['greenkey', '112', '56']]"
      ]
     },
     "execution_count": 52,
     "metadata": {},
     "output_type": "execute_result"
    }
   ],
   "source": [
    "nearby"
   ]
  },
  {
   "cell_type": "code",
   "execution_count": 14,
   "id": "65f9deab",
   "metadata": {},
   "outputs": [],
   "source": [
    "if len(player1.nearby_items):\n",
    "    item = player1.nearby_items.pop()\n",
    "    player1.move_to(item[0],item[1])"
   ]
  },
  {
   "cell_type": "code",
   "execution_count": 15,
   "id": "e2d4066d",
   "metadata": {},
   "outputs": [
    {
     "ename": "IndexError",
     "evalue": "pop from empty list",
     "output_type": "error",
     "traceback": [
      "\u001b[0;31m---------------------------------------------------------------------------\u001b[0m",
      "\u001b[0;31mIndexError\u001b[0m                                Traceback (most recent call last)",
      "Input \u001b[0;32mIn [15]\u001b[0m, in \u001b[0;36m<cell line: 1>\u001b[0;34m()\u001b[0m\n\u001b[0;32m----> 1\u001b[0m \u001b[43m[\u001b[49m\u001b[43m]\u001b[49m\u001b[38;5;241;43m.\u001b[39;49m\u001b[43mpop\u001b[49m\u001b[43m(\u001b[49m\u001b[43m)\u001b[49m\n",
      "\u001b[0;31mIndexError\u001b[0m: pop from empty list"
     ]
    }
   ],
   "source": []
  },
  {
   "cell_type": "code",
   "execution_count": 26,
   "id": "43e5da64",
   "metadata": {},
   "outputs": [
    {
     "data": {
      "text/plain": [
       "(168, 56)"
      ]
     },
     "execution_count": 26,
     "metadata": {},
     "output_type": "execute_result"
    }
   ],
   "source": [
    "player1.x, player1.y"
   ]
  },
  {
   "cell_type": "code",
   "execution_count": 31,
   "id": "ae6844dd",
   "metadata": {},
   "outputs": [],
   "source": [
    "player1.move_to(168, 77)"
   ]
  },
  {
   "cell_type": "code",
   "execution_count": 37,
   "id": "5ee890e4",
   "metadata": {},
   "outputs": [],
   "source": [
    "player1.face_direction(\"w\")\n",
    "player1.move_direction(\"w\")"
   ]
  },
  {
   "cell_type": "code",
   "execution_count": 51,
   "id": "4b1c3a90",
   "metadata": {},
   "outputs": [],
   "source": [
    "player1.stop()"
   ]
  },
  {
   "cell_type": "code",
   "execution_count": 39,
   "id": "4992153d",
   "metadata": {},
   "outputs": [],
   "source": [
    "player1.face_direction(\"n\")\n",
    "player1.move_direction(\"n\")"
   ]
  },
  {
   "cell_type": "code",
   "execution_count": 47,
   "id": "6831c09b",
   "metadata": {},
   "outputs": [
    {
     "data": {
      "text/plain": [
       "(168, 56)"
      ]
     },
     "execution_count": 47,
     "metadata": {},
     "output_type": "execute_result"
    }
   ],
   "source": [
    "player1.x, player1.y"
   ]
  },
  {
   "cell_type": "code",
   "execution_count": 50,
   "id": "821864ec",
   "metadata": {},
   "outputs": [],
   "source": [
    "player1.move_to(56, 168)"
   ]
  },
  {
   "cell_type": "code",
   "execution_count": null,
   "id": "b0630b17",
   "metadata": {},
   "outputs": [],
   "source": []
  }
 ],
 "metadata": {
  "kernelspec": {
   "display_name": "Python 3 (ipykernel)",
   "language": "python",
   "name": "python3"
  },
  "language_info": {
   "codemirror_mode": {
    "name": "ipython",
    "version": 3
   },
   "file_extension": ".py",
   "mimetype": "text/x-python",
   "name": "python",
   "nbconvert_exporter": "python",
   "pygments_lexer": "ipython3",
   "version": "3.10.4"
  }
 },
 "nbformat": 4,
 "nbformat_minor": 5
}
