{
 "cells": [
  {
   "cell_type": "code",
   "execution_count": 10,
   "id": "d4238830",
   "metadata": {},
   "outputs": [],
   "source": [
    "from Player import Player"
   ]
  },
  {
   "cell_type": "code",
   "execution_count": 11,
   "id": "c503998d",
   "metadata": {
    "scrolled": true
   },
   "outputs": [
    {
     "name": "stdout",
     "output_type": "stream",
     "text": [
      "playerjoined ['warrior', 'mydisplayname', '92', '164']\n"
     ]
    }
   ],
   "source": [
    "player1 = Player.spawn((\"10.211.55.4\", 11000),'lorne')"
   ]
  },
  {
   "cell_type": "code",
   "execution_count": 12,
   "id": "2515112b",
   "metadata": {},
   "outputs": [
    {
     "data": {
      "text/plain": [
       "(92, 164)"
      ]
     },
     "execution_count": 12,
     "metadata": {},
     "output_type": "execute_result"
    }
   ],
   "source": [
    "player1.x, player1.y"
   ]
  },
  {
   "cell_type": "code",
   "execution_count": 7,
   "id": "020f73ce",
   "metadata": {},
   "outputs": [],
   "source": [
    "player1.x+=4 \n",
    "player1.y+=4"
   ]
  },
  {
   "cell_type": "code",
   "execution_count": 14,
   "id": "cb6d217c",
   "metadata": {},
   "outputs": [
    {
     "name": "stdout",
     "output_type": "stream",
     "text": [
      "nearbyitem ['treasure', '88', '160', 'treasure', '88', '192', 'treasure', '56', '192', '']\n",
      "nearbyitem ['treasure', '88', '160', 'treasure', '88', '192', 'treasure', '56', '192', 'food', '72', '120', '']\n",
      "nearbyitem ['treasure', '88', '160', 'treasure', '88', '192', 'treasure', '56', '192', 'food', '72', '120', 'ammo', '88', '184', '']\n",
      "playerupdate ['96', '168', '1', '5', 'False']\n",
      "nearbywalls ['144', '192', '144', '184', '144', '176', '144', '168', '144', '160', '144', '152', '144', '144', '136', '200', '136', '192', '136', '184', '136', '176', '136', '168', '136', '160', '136', '152', '136', '144', '136', '136', '128', '200', '128', '136', '120', '200', '120', '136', '112', '216', '112', '208', '112', '200', '112', '136', '104', '208', '104', '200', '104', '136', '104', '128', '104', '120', '96', '208', '96', '200', '96', '136', '96', '128', '88', '136', '88', '128', '80', '216', '80', '208', '80', '200', '80', '192', '80', '176', '80', '160', '80', '152', '80', '144', '80', '136', '80', '128', '72', '192', '72', '176', '72', '160', '72', '128', '64', '208', '64', '200', '64', '192', '64', '176', '64', '160', '64', '128', '56', '160', '48', '160', '48', '152', '48', '144', '']\n",
      "nearbyfloors ['48', '168', '48', '176', '48', '184', '56', '168', '56', '176', '56', '184', '56', '192', '64', '168', '64', '184', '72', '120', '72', '168', '72', '184', '80', '120', '80', '168', '80', '184', '88', '120', '88', '144', '88', '152', '88', '160', '88', '168', '88', '176', '88', '184', '88', '192', '88', '200', '88', '208', '96', '120', '96', '144', '96', '152', '96', '160', '96', '168', '96', '176', '96', '184', '96', '192', '104', '144', '104', '152', '104', '160', '104', '168', '104', '176', '104', '184', '104', '192', '112', '144', '112', '152', '112', '160', '112', '168', '112', '176', '112', '184', '112', '192', '120', '144', '120', '152', '120', '160', '120', '168', '120', '176', '120', '184', '120', '192', '128', '144', '128', '152', '128', '160', '128', '168', '128', '176', '128', '184', '128', '192', '']\n",
      "playerupdate ['96', '168', '1', '5', 'False']\n",
      "nearbyitem ['treasure', '88', '160', '']\n",
      "nearbyitem ['treasure', '88', '160', 'treasure', '88', '192', '']\n",
      "nearbyitem ['treasure', '88', '160', 'treasure', '88', '192', 'treasure', '56', '192', '']\n"
     ]
    }
   ],
   "source": [
    "for _ in range(10):\n",
    "    update = player1.socket.recvfrom(player1.bufferSize)[0].decode('ascii') \n",
    "    player1.update(update)"
   ]
  },
  {
   "cell_type": "code",
   "execution_count": 11,
   "id": "0285b827",
   "metadata": {},
   "outputs": [
    {
     "data": {
      "text/plain": [
       "[FloorTile(x=8, y=216, _visited=False),\n",
       " FloorTile(x=16, y=216, _visited=False),\n",
       " FloorTile(x=8, y=208, _visited=False),\n",
       " FloorTile(x=16, y=208, _visited=False),\n",
       " FloorTile(x=24, y=216, _visited=False),\n",
       " FloorTile(x=8, y=200, _visited=False),\n",
       " FloorTile(x=16, y=200, _visited=False),\n",
       " FloorTile(x=24, y=208, _visited=False),\n",
       " FloorTile(x=24, y=200, _visited=False)]"
      ]
     },
     "execution_count": 11,
     "metadata": {},
     "output_type": "execute_result"
    }
   ],
   "source": [
    "player1.nearest_floors(9)"
   ]
  },
  {
   "cell_type": "code",
   "execution_count": 25,
   "id": "c6a3667f",
   "metadata": {},
   "outputs": [
    {
     "data": {
      "text/plain": [
       "{Item(type='food', x='104', y='24'),\n",
       " Item(type='food', x='120', y='48'),\n",
       " Item(type='redkey', x='144', y='32'),\n",
       " Item(type='treasure', x='128', y='40')}"
      ]
     },
     "execution_count": 25,
     "metadata": {},
     "output_type": "execute_result"
    }
   ],
   "source": [
    "player1.nearby_items"
   ]
  },
  {
   "cell_type": "code",
   "execution_count": 6,
   "id": "41c72fee",
   "metadata": {},
   "outputs": [
    {
     "name": "stdout",
     "output_type": "stream",
     "text": [
      "nearbyitem ['treasure', '88', '216', 'ammo', '80', '216', '']\n"
     ]
    }
   ],
   "source": [
    "player1.face_direction('e')\n",
    "update = player1.socket.recvfrom(player1.bufferSize)[0].decode('ascii') \n",
    "player1.update(update)"
   ]
  },
  {
   "cell_type": "code",
   "execution_count": null,
   "id": "144a376f",
   "metadata": {},
   "outputs": [],
   "source": []
  },
  {
   "cell_type": "code",
   "execution_count": 7,
   "id": "1853ef81",
   "metadata": {},
   "outputs": [
    {
     "name": "stdout",
     "output_type": "stream",
     "text": [
      "playerupdate ['112', '216', '1', '500', 'False']\n"
     ]
    }
   ],
   "source": [
    "player1.move_direction('e')\n",
    "update = player1.socket.recvfrom(player1.bufferSize)[0].decode('ascii') \n",
    "player1.update(update)"
   ]
  },
  {
   "cell_type": "code",
   "execution_count": 15,
   "id": "77031fca",
   "metadata": {},
   "outputs": [
    {
     "data": {
      "text/plain": [
       "[['treasure', '144', '40'],\n",
       " ['treasure', '144', '40'],\n",
       " ['ammo', '104', '56'],\n",
       " ['treasure', '144', '40'],\n",
       " ['treasure', '144', '40'],\n",
       " ['ammo', '104', '56'],\n",
       " ['treasure', '144', '40'],\n",
       " ['treasure', '144', '40'],\n",
       " ['ammo', '104', '56'],\n",
       " ['treasure', '144', '40'],\n",
       " ['treasure', '144', '40'],\n",
       " ['ammo', '104', '56'],\n",
       " ['treasure', '144', '40'],\n",
       " ['treasure', '144', '40'],\n",
       " ['ammo', '104', '56'],\n",
       " ['treasure', '144', '40'],\n",
       " ['treasure', '144', '40'],\n",
       " ['ammo', '104', '56'],\n",
       " ['treasure', '144', '40'],\n",
       " ['treasure', '144', '40'],\n",
       " ['ammo', '104', '56'],\n",
       " ['treasure', '144', '40'],\n",
       " ['treasure', '144', '40'],\n",
       " ['ammo', '104', '56'],\n",
       " ['treasure', '144', '40'],\n",
       " ['treasure', '144', '40'],\n",
       " ['ammo', '104', '56'],\n",
       " ['treasure', '144', '40'],\n",
       " ['treasure', '144', '40'],\n",
       " ['ammo', '104', '56'],\n",
       " ['treasure', '144', '40'],\n",
       " ['treasure', '144', '40'],\n",
       " ['ammo', '104', '56'],\n",
       " ['treasure', '144', '40'],\n",
       " ['treasure', '144', '40'],\n",
       " ['ammo', '104', '56'],\n",
       " ['treasure', '144', '40'],\n",
       " ['treasure', '144', '40'],\n",
       " ['ammo', '104', '56'],\n",
       " ['treasure', '144', '40'],\n",
       " ['treasure', '144', '40'],\n",
       " ['ammo', '104', '56'],\n",
       " ['treasure', '144', '40'],\n",
       " ['treasure', '144', '40'],\n",
       " ['ammo', '104', '56'],\n",
       " ['treasure', '144', '40'],\n",
       " ['treasure', '144', '40'],\n",
       " ['ammo', '104', '56'],\n",
       " ['treasure', '144', '40'],\n",
       " ['treasure', '144', '40'],\n",
       " ['ammo', '104', '56'],\n",
       " ['treasure', '144', '40'],\n",
       " ['treasure', '144', '40'],\n",
       " ['ammo', '104', '56'],\n",
       " ['treasure', '144', '40'],\n",
       " ['treasure', '144', '40'],\n",
       " ['ammo', '104', '56'],\n",
       " ['treasure', '144', '40'],\n",
       " ['treasure', '144', '40'],\n",
       " ['ammo', '104', '56'],\n",
       " ['treasure', '144', '40'],\n",
       " ['treasure', '144', '40'],\n",
       " ['ammo', '104', '56'],\n",
       " ['treasure', '144', '40'],\n",
       " ['treasure', '144', '40'],\n",
       " ['ammo', '104', '56'],\n",
       " ['treasure', '144', '40'],\n",
       " ['treasure', '144', '40'],\n",
       " ['ammo', '104', '56']]"
      ]
     },
     "execution_count": 15,
     "metadata": {},
     "output_type": "execute_result"
    }
   ],
   "source": [
    "player1.nearby_items"
   ]
  },
  {
   "cell_type": "code",
   "execution_count": 8,
   "id": "25112dcc",
   "metadata": {},
   "outputs": [],
   "source": [
    "player1.stop()"
   ]
  },
  {
   "cell_type": "code",
   "execution_count": 19,
   "id": "1343ebfe",
   "metadata": {},
   "outputs": [],
   "source": [
    "player1.move_to(24,216)"
   ]
  },
  {
   "cell_type": "code",
   "execution_count": 8,
   "id": "576d0936",
   "metadata": {},
   "outputs": [
    {
     "ename": "KeyboardInterrupt",
     "evalue": "",
     "output_type": "error",
     "traceback": [
      "\u001b[0;31m---------------------------------------------------------------------------\u001b[0m",
      "\u001b[0;31mKeyboardInterrupt\u001b[0m                         Traceback (most recent call last)",
      "Input \u001b[0;32mIn [8]\u001b[0m, in \u001b[0;36m<cell line: 1>\u001b[0;34m()\u001b[0m\n\u001b[1;32m      1\u001b[0m \u001b[38;5;28;01mwhile\u001b[39;00m \u001b[38;5;28;01mTrue\u001b[39;00m:\n\u001b[0;32m----> 2\u001b[0m     \u001b[38;5;28;01mif\u001b[39;00m \u001b[38;5;28;43mlen\u001b[39;49m\u001b[43m(\u001b[49m\u001b[43mplayer1\u001b[49m\u001b[38;5;241;43m.\u001b[39;49m\u001b[43mnearby_items\u001b[49m\u001b[43m)\u001b[49m:\n\u001b[1;32m      3\u001b[0m         item \u001b[38;5;241m=\u001b[39m player1\u001b[38;5;241m.\u001b[39mnearby_items\u001b[38;5;241m.\u001b[39mpop()\n\u001b[1;32m      4\u001b[0m         player1\u001b[38;5;241m.\u001b[39mmove_to(item[\u001b[38;5;241m0\u001b[39m],item[\u001b[38;5;241m1\u001b[39m])\n",
      "\u001b[0;31mKeyboardInterrupt\u001b[0m: "
     ]
    }
   ],
   "source": [
    "while True:\n",
    "    if len(player1.nearby_items):\n",
    "        item = player1.nearby_items.pop()\n",
    "        player1.move_to(item[0],item[1])"
   ]
  },
  {
   "cell_type": "code",
   "execution_count": 18,
   "id": "e84a1b59",
   "metadata": {},
   "outputs": [
    {
     "data": {
      "text/plain": [
       "[]"
      ]
     },
     "execution_count": 18,
     "metadata": {},
     "output_type": "execute_result"
    }
   ],
   "source": [
    "player1.nearby_items"
   ]
  },
  {
   "cell_type": "code",
   "execution_count": 47,
   "id": "4e1e6497",
   "metadata": {},
   "outputs": [
    {
     "data": {
      "text/plain": [
       "['bluekey', 'greenkey', '']"
      ]
     },
     "execution_count": 47,
     "metadata": {},
     "output_type": "execute_result"
    }
   ],
   "source": [
    "items = ['bluekey', '80', '72', 'greenkey', '112', '56', '']\n",
    "items[::]"
   ]
  },
  {
   "cell_type": "code",
   "execution_count": 51,
   "id": "bdfba867",
   "metadata": {},
   "outputs": [],
   "source": [
    "nearby = [] \n",
    "if len(items):\n",
    "    n_groups = (len(items)-1) // 3\n",
    "    \n",
    "    for i in range(n_groups):\n",
    "        \n",
    "        nearby.append(items[i*3:(i+1)*3])"
   ]
  },
  {
   "cell_type": "code",
   "execution_count": 52,
   "id": "5b4e3c94",
   "metadata": {},
   "outputs": [
    {
     "data": {
      "text/plain": [
       "[['bluekey', '80', '72'], ['greenkey', '112', '56']]"
      ]
     },
     "execution_count": 52,
     "metadata": {},
     "output_type": "execute_result"
    }
   ],
   "source": [
    "nearby"
   ]
  },
  {
   "cell_type": "code",
   "execution_count": 14,
   "id": "2ab69a4f",
   "metadata": {},
   "outputs": [],
   "source": [
    "if len(player1.nearby_items):\n",
    "    item = player1.nearby_items.pop()\n",
    "    player1.move_to(item[0],item[1])"
   ]
  },
  {
   "cell_type": "code",
   "execution_count": 15,
   "id": "c44a2359",
   "metadata": {},
   "outputs": [
    {
     "ename": "IndexError",
     "evalue": "pop from empty list",
     "output_type": "error",
     "traceback": [
      "\u001b[0;31m---------------------------------------------------------------------------\u001b[0m",
      "\u001b[0;31mIndexError\u001b[0m                                Traceback (most recent call last)",
      "Input \u001b[0;32mIn [15]\u001b[0m, in \u001b[0;36m<cell line: 1>\u001b[0;34m()\u001b[0m\n\u001b[0;32m----> 1\u001b[0m \u001b[43m[\u001b[49m\u001b[43m]\u001b[49m\u001b[38;5;241;43m.\u001b[39;49m\u001b[43mpop\u001b[49m\u001b[43m(\u001b[49m\u001b[43m)\u001b[49m\n",
      "\u001b[0;31mIndexError\u001b[0m: pop from empty list"
     ]
    }
   ],
   "source": []
  },
  {
   "cell_type": "code",
   "execution_count": 26,
   "id": "af8d590c",
   "metadata": {},
   "outputs": [
    {
     "data": {
      "text/plain": [
       "(168, 56)"
      ]
     },
     "execution_count": 26,
     "metadata": {},
     "output_type": "execute_result"
    }
   ],
   "source": [
    "player1.x, player1.y"
   ]
  },
  {
   "cell_type": "code",
   "execution_count": 56,
   "id": "32aa7a01",
   "metadata": {},
   "outputs": [],
   "source": [
    "player1.move_to(player1.x, player1.y)"
   ]
  },
  {
   "cell_type": "code",
   "execution_count": 6,
   "id": "f4d99616",
   "metadata": {},
   "outputs": [],
   "source": [
    "player1.face_direction(\"e\")\n",
    "player1.move_direction(\"e\")"
   ]
  },
  {
   "cell_type": "code",
   "execution_count": 7,
   "id": "9b19c082",
   "metadata": {},
   "outputs": [],
   "source": [
    "player1.stop()"
   ]
  },
  {
   "cell_type": "code",
   "execution_count": 112,
   "id": "0ab06d9c",
   "metadata": {},
   "outputs": [],
   "source": [
    "player1.face_direction(\"n\")\n",
    "player1.move_direction(\"n\")"
   ]
  },
  {
   "cell_type": "code",
   "execution_count": 94,
   "id": "c0c896d7",
   "metadata": {},
   "outputs": [
    {
     "data": {
      "text/plain": [
       "(16, 160)"
      ]
     },
     "execution_count": 94,
     "metadata": {},
     "output_type": "execute_result"
    }
   ],
   "source": [
    "player1.x, player1.y"
   ]
  },
  {
   "cell_type": "code",
   "execution_count": 117,
   "id": "3c881b9f",
   "metadata": {},
   "outputs": [],
   "source": [
    "player1.move_to(32, 160)"
   ]
  },
  {
   "cell_type": "code",
   "execution_count": 69,
   "id": "77ca24d6",
   "metadata": {},
   "outputs": [
    {
     "data": {
      "text/plain": [
       "[['treasure', '32', '160'],\n",
       " ['treasure', '32', '160'],\n",
       " ['food', '48', '168'],\n",
       " ['treasure', '32', '160'],\n",
       " ['food', '48', '168'],\n",
       " ['food', '8', '184'],\n",
       " ['treasure', '32', '160'],\n",
       " ['food', '48', '168'],\n",
       " ['food', '8', '184'],\n",
       " ['food', '32', '168'],\n",
       " ['treasure', '32', '160'],\n",
       " ['food', '48', '168'],\n",
       " ['food', '8', '184'],\n",
       " ['food', '32', '168'],\n",
       " ['ammo', '8', '152'],\n",
       " ['treasure', '32', '160'],\n",
       " ['treasure', '32', '160'],\n",
       " ['food', '48', '168'],\n",
       " ['treasure', '32', '160'],\n",
       " ['food', '48', '168'],\n",
       " ['food', '8', '184'],\n",
       " ['treasure', '32', '160'],\n",
       " ['food', '48', '168'],\n",
       " ['food', '8', '184'],\n",
       " ['food', '32', '168'],\n",
       " ['treasure', '32', '160'],\n",
       " ['food', '48', '168'],\n",
       " ['food', '8', '184'],\n",
       " ['food', '32', '168'],\n",
       " ['ammo', '8', '152'],\n",
       " ['treasure', '32', '160'],\n",
       " ['treasure', '32', '160'],\n",
       " ['food', '48', '168'],\n",
       " ['treasure', '32', '160'],\n",
       " ['food', '48', '168'],\n",
       " ['food', '8', '184']]"
      ]
     },
     "execution_count": 69,
     "metadata": {},
     "output_type": "execute_result"
    }
   ],
   "source": [
    "player1.nearby_items"
   ]
  },
  {
   "cell_type": "code",
   "execution_count": 84,
   "id": "ca4bf463",
   "metadata": {},
   "outputs": [],
   "source": [
    "player1.face_direction(\"w\")"
   ]
  },
  {
   "cell_type": "code",
   "execution_count": 12,
   "id": "a9814e5d",
   "metadata": {},
   "outputs": [],
   "source": [
    "player1.SendMessage(':')"
   ]
  },
  {
   "cell_type": "code",
   "execution_count": 18,
   "id": "115e194a",
   "metadata": {},
   "outputs": [
    {
     "data": {
      "text/plain": [
       "[1, 2, 3]"
      ]
     },
     "execution_count": 18,
     "metadata": {},
     "output_type": "execute_result"
    }
   ],
   "source": [
    "a = set([1,1,2,3])\n",
    "sorted(a)"
   ]
  },
  {
   "cell_type": "code",
   "execution_count": 15,
   "id": "a994842d",
   "metadata": {},
   "outputs": [
    {
     "name": "stdout",
     "output_type": "stream",
     "text": [
      "nearbyitem ['treasure', '88', '160', 'treasure', '88', '192', 'treasure', '56', '192', 'food', '72', '120', '']\n",
      "nearbyitem ['treasure', '88', '160', 'treasure', '88', '192', 'treasure', '56', '192', 'food', '72', '120', 'ammo', '88', '184', '']\n",
      "playerupdate ['96', '168', '1', '5', 'False']\n",
      "nearbyitem ['treasure', '88', '160', '']\n",
      "nearbyitem ['treasure', '88', '160', 'treasure', '88', '192', '']\n",
      "nearbyitem ['treasure', '88', '160', 'treasure', '88', '192', 'treasure', '56', '192', '']\n",
      "nearbyitem ['treasure', '88', '160', 'treasure', '88', '192', 'treasure', '56', '192', 'food', '72', '120', '']\n",
      "nearbyitem ['treasure', '88', '160', 'treasure', '88', '192', 'treasure', '56', '192', 'food', '72', '120', 'ammo', '88', '184', '']\n",
      "playerupdate ['96', '168', '1', '5', 'False']\n",
      "playerupdate ['96', '168', '1', '5', 'False']\n",
      "nearbyitem ['treasure', '88', '160', '']\n",
      "nearbyitem ['treasure', '88', '160', 'treasure', '88', '192', '']\n",
      "nearbyitem ['treasure', '88', '160', 'treasure', '88', '192', 'treasure', '56', '192', '']\n",
      "nearbyitem ['treasure', '88', '160', 'treasure', '88', '192', 'treasure', '56', '192', 'food', '72', '120', '']\n",
      "nearbyitem ['treasure', '88', '160', 'treasure', '88', '192', 'treasure', '56', '192', 'food', '72', '120', 'ammo', '88', '184', '']\n",
      "playerupdate ['96', '168', '1', '5', 'False']\n",
      "nearbywalls ['144', '192', '144', '184', '144', '176', '144', '168', '144', '160', '144', '152', '144', '144', '136', '200', '136', '192', '136', '184', '136', '176', '136', '168', '136', '160', '136', '152', '136', '144', '136', '136', '128', '200', '128', '136', '120', '200', '120', '136', '112', '216', '112', '208', '112', '200', '112', '136', '104', '208', '104', '200', '104', '136', '104', '128', '104', '120', '96', '208', '96', '200', '96', '136', '96', '128', '88', '136', '88', '128', '80', '216', '80', '208', '80', '200', '80', '192', '80', '176', '80', '160', '80', '152', '80', '144', '80', '136', '80', '128', '72', '192', '72', '176', '72', '160', '72', '128', '64', '208', '64', '200', '64', '192', '64', '176', '64', '160', '64', '128', '56', '160', '48', '160', '48', '152', '48', '144', '']\n",
      "nearbyfloors ['48', '168', '48', '176', '48', '184', '56', '168', '56', '176', '56', '184', '56', '192', '64', '168', '64', '184', '72', '120', '72', '168', '72', '184', '80', '120', '80', '168', '80', '184', '88', '120', '88', '144', '88', '152', '88', '160', '88', '168', '88', '176', '88', '184', '88', '192', '88', '200', '88', '208', '96', '120', '96', '144', '96', '152', '96', '160', '96', '168', '96', '176', '96', '184', '96', '192', '104', '144', '104', '152', '104', '160', '104', '168', '104', '176', '104', '184', '104', '192', '112', '144', '112', '152', '112', '160', '112', '168', '112', '176', '112', '184', '112', '192', '120', '144', '120', '152', '120', '160', '120', '168', '120', '176', '120', '184', '120', '192', '128', '144', '128', '152', '128', '160', '128', '168', '128', '176', '128', '184', '128', '192', '']\n",
      "playerupdate ['96', '168', '1', '5', 'False']\n",
      "nearbyitem ['treasure', '88', '160', '']\n",
      "nearbyitem ['treasure', '88', '160', 'treasure', '88', '192', '']\n",
      "nearbyitem ['treasure', '88', '160', 'treasure', '88', '192', 'treasure', '56', '192', '']\n",
      "nearbyitem ['treasure', '88', '160', 'treasure', '88', '192', 'treasure', '56', '192', 'food', '72', '120', '']\n",
      "nearbyitem ['treasure', '88', '160', 'treasure', '88', '192', 'treasure', '56', '192', 'food', '72', '120', 'ammo', '88', '184', '']\n",
      "playerupdate ['96', '168', '1', '5', 'False']\n",
      "playerupdate ['96', '168', '1', '5', 'False']\n",
      "nearbyitem ['treasure', '88', '160', '']\n",
      "nearbyitem ['treasure', '88', '160', 'treasure', '88', '192', '']\n",
      "nearbyitem ['treasure', '88', '160', 'treasure', '88', '192', 'treasure', '56', '192', '']\n",
      "nearbyitem ['treasure', '88', '160', 'treasure', '88', '192', 'treasure', '56', '192', 'food', '72', '120', '']\n",
      "nearbyitem ['treasure', '88', '160', 'treasure', '88', '192', 'treasure', '56', '192', 'food', '72', '120', 'ammo', '88', '184', '']\n",
      "playerupdate ['96', '168', '1', '5', 'False']\n",
      "nearbywalls ['144', '192', '144', '184', '144', '176', '144', '168', '144', '160', '144', '152', '144', '144', '136', '200', '136', '192', '136', '184', '136', '176', '136', '168', '136', '160', '136', '152', '136', '144', '136', '136', '128', '200', '128', '136', '120', '200', '120', '136', '112', '216', '112', '208', '112', '200', '112', '136', '104', '208', '104', '200', '104', '136', '104', '128', '104', '120', '96', '208', '96', '200', '96', '136', '96', '128', '88', '136', '88', '128', '80', '216', '80', '208', '80', '200', '80', '192', '80', '176', '80', '160', '80', '152', '80', '144', '80', '136', '80', '128', '72', '192', '72', '176', '72', '160', '72', '128', '64', '208', '64', '200', '64', '192', '64', '176', '64', '160', '64', '128', '56', '160', '48', '160', '48', '152', '48', '144', '']\n",
      "nearbyfloors ['48', '168', '48', '176', '48', '184', '56', '168', '56', '176', '56', '184', '56', '192', '64', '168', '64', '184', '72', '120', '72', '168', '72', '184', '80', '120', '80', '168', '80', '184', '88', '120', '88', '144', '88', '152', '88', '160', '88', '168', '88', '176', '88', '184', '88', '192', '88', '200', '88', '208', '96', '120', '96', '144', '96', '152', '96', '160', '96', '168', '96', '176', '96', '184', '96', '192', '104', '144', '104', '152', '104', '160', '104', '168', '104', '176', '104', '184', '104', '192', '112', '144', '112', '152', '112', '160', '112', '168', '112', '176', '112', '184', '112', '192', '120', '144', '120', '152', '120', '160', '120', '168', '120', '176', '120', '184', '120', '192', '128', '144', '128', '152', '128', '160', '128', '168', '128', '176', '128', '184', '128', '192', '']\n",
      "playerupdate ['96', '168', '1', '5', 'False']\n",
      "nearbyitem ['treasure', '88', '160', '']\n",
      "nearbyitem ['treasure', '88', '160', 'treasure', '88', '192', '']\n",
      "nearbyitem ['treasure', '88', '160', 'treasure', '88', '192', 'treasure', '56', '192', '']\n",
      "nearbyitem ['treasure', '88', '160', 'treasure', '88', '192', 'treasure', '56', '192', 'food', '72', '120', '']\n",
      "nearbyitem ['treasure', '88', '160', 'treasure', '88', '192', 'treasure', '56', '192', 'food', '72', '120', 'ammo', '88', '184', '']\n",
      "playerupdate ['96', '168', '1', '5', 'False']\n",
      "playerupdate ['96', '168', '1', '5', 'False']\n",
      "nearbyitem ['treasure', '88', '160', '']\n",
      "nearbyitem ['treasure', '88', '160', 'treasure', '88', '192', '']\n",
      "nearbyitem ['treasure', '88', '160', 'treasure', '88', '192', 'treasure', '56', '192', '']\n",
      "nearbyitem ['treasure', '88', '160', 'treasure', '88', '192', 'treasure', '56', '192', 'food', '72', '120', '']\n",
      "nearbyitem ['treasure', '88', '160', 'treasure', '88', '192', 'treasure', '56', '192', 'food', '72', '120', 'ammo', '88', '184', '']\n",
      "playerupdate ['96', '168', '1', '5', 'False']\n",
      "playerupdate ['96', '168', '1', '5', 'False']\n",
      "nearbywalls ['144', '192', '144', '184', '144', '176', '144', '168', '144', '160', '144', '152', '144', '144', '136', '200', '136', '192', '136', '184', '136', '176', '136', '168', '136', '160', '136', '152', '136', '144', '136', '136', '128', '200', '128', '136', '120', '200', '120', '136', '112', '216', '112', '208', '112', '200', '112', '136', '104', '208', '104', '200', '104', '136', '104', '128', '104', '120', '96', '208', '96', '200', '96', '136', '96', '128', '88', '136', '88', '128', '80', '216', '80', '208', '80', '200', '80', '192', '80', '176', '80', '160', '80', '152', '80', '144', '80', '136', '80', '128', '72', '192', '72', '176', '72', '160', '72', '128', '64', '208', '64', '200', '64', '192', '64', '176', '64', '160', '64', '128', '56', '160', '48', '160', '48', '152', '48', '144', '']\n",
      "nearbyfloors ['48', '168', '48', '176', '48', '184', '56', '168', '56', '176', '56', '184', '56', '192', '64', '168', '64', '184', '72', '120', '72', '168', '72', '184', '80', '120', '80', '168', '80', '184', '88', '120', '88', '144', '88', '152', '88', '160', '88', '168', '88', '176', '88', '184', '88', '192', '88', '200', '88', '208', '96', '120', '96', '144', '96', '152', '96', '160', '96', '168', '96', '176', '96', '184', '96', '192', '104', '144', '104', '152', '104', '160', '104', '168', '104', '176', '104', '184', '104', '192', '112', '144', '112', '152', '112', '160', '112', '168', '112', '176', '112', '184', '112', '192', '120', '144', '120', '152', '120', '160', '120', '168', '120', '176', '120', '184', '120', '192', '128', '144', '128', '152', '128', '160', '128', '168', '128', '176', '128', '184', '128', '192', '']\n",
      "nearbyitem ['treasure', '88', '160', '']\n",
      "nearbyitem ['treasure', '88', '160', 'treasure', '88', '192', '']\n",
      "nearbyitem ['treasure', '88', '160', 'treasure', '88', '192', 'treasure', '56', '192', '']\n",
      "nearbyitem ['treasure', '88', '160', 'treasure', '88', '192', 'treasure', '56', '192', 'food', '72', '120', '']\n",
      "nearbyitem ['treasure', '88', '160', 'treasure', '88', '192', 'treasure', '56', '192', 'food', '72', '120', 'ammo', '88', '184', '']\n",
      "playerupdate ['96', '168', '1', '5', 'False']\n",
      "playerupdate ['96', '168', '1', '5', 'False']\n",
      "nearbyitem ['treasure', '88', '160', '']\n",
      "nearbyitem ['treasure', '88', '160', 'treasure', '88', '192', '']\n"
     ]
    },
    {
     "name": "stdout",
     "output_type": "stream",
     "text": [
      "nearbyitem ['treasure', '88', '160', 'treasure', '88', '192', 'treasure', '56', '192', '']\n",
      "nearbyitem ['treasure', '88', '160', 'treasure', '88', '192', 'treasure', '56', '192', 'food', '72', '120', '']\n",
      "nearbyitem ['treasure', '88', '160', 'treasure', '88', '192', 'treasure', '56', '192', 'food', '72', '120', 'ammo', '88', '184', '']\n",
      "playerupdate ['96', '168', '1', '5', 'False']\n",
      "nearbyitem ['treasure', '88', '160', '']\n",
      "nearbyitem ['treasure', '88', '160', 'treasure', '88', '192', '']\n",
      "nearbyitem ['treasure', '88', '160', 'treasure', '88', '192', 'treasure', '56', '192', '']\n",
      "nearbyitem ['treasure', '88', '160', 'treasure', '88', '192', 'treasure', '56', '192', 'food', '72', '120', '']\n",
      "nearbyitem ['treasure', '88', '160', 'treasure', '88', '192', 'treasure', '56', '192', 'food', '72', '120', 'ammo', '88', '184', '']\n",
      "playerupdate ['96', '168', '1', '5', 'False']\n",
      "nearbywalls ['144', '192', '144', '184', '144', '176', '144', '168', '144', '160', '144', '152', '144', '144', '136', '200', '136', '192', '136', '184', '136', '176', '136', '168', '136', '160', '136', '152', '136', '144', '136', '136', '128', '200', '128', '136', '120', '200', '120', '136', '112', '216', '112', '208', '112', '200', '112', '136', '104', '208', '104', '200', '104', '136', '104', '128', '104', '120', '96', '208', '96', '200', '96', '136', '96', '128', '88', '136', '88', '128', '80', '216', '80', '208', '80', '200', '80', '192', '80', '176', '80', '160', '80', '152', '80', '144', '80', '136', '80', '128', '72', '192', '72', '176', '72', '160', '72', '128', '64', '208', '64', '200', '64', '192', '64', '176', '64', '160', '64', '128', '56', '160', '48', '160', '48', '152', '48', '144', '']\n",
      "nearbyfloors ['48', '168', '48', '176', '48', '184', '56', '168', '56', '176', '56', '184', '56', '192', '64', '168', '64', '184', '72', '120', '72', '168', '72', '184', '80', '120', '80', '168', '80', '184', '88', '120', '88', '144', '88', '152', '88', '160', '88', '168', '88', '176', '88', '184', '88', '192', '88', '200', '88', '208', '96', '120', '96', '144', '96', '152', '96', '160', '96', '168', '96', '176', '96', '184', '96', '192', '104', '144', '104', '152', '104', '160', '104', '168', '104', '176', '104', '184', '104', '192', '112', '144', '112', '152', '112', '160', '112', '168', '112', '176', '112', '184', '112', '192', '120', '144', '120', '152', '120', '160', '120', '168', '120', '176', '120', '184', '120', '192', '128', '144', '128', '152', '128', '160', '128', '168', '128', '176', '128', '184', '128', '192', '']\n",
      "playerupdate ['96', '168', '1', '5', 'False']\n",
      "nearbyitem ['treasure', '88', '160', '']\n",
      "nearbyitem ['treasure', '88', '160', 'treasure', '88', '192', '']\n",
      "nearbyitem ['treasure', '88', '160', 'treasure', '88', '192', 'treasure', '56', '192', '']\n",
      "nearbyitem ['treasure', '88', '160', 'treasure', '88', '192', 'treasure', '56', '192', 'food', '72', '120', '']\n",
      "nearbyitem ['treasure', '88', '160', 'treasure', '88', '192', 'treasure', '56', '192', 'food', '72', '120', 'ammo', '88', '184', '']\n",
      "playerupdate ['96', '168', '1', '5', 'False']\n",
      "playerupdate ['96', '168', '1', '5', 'False']\n",
      "nearbyitem ['treasure', '88', '160', '']\n",
      "nearbyitem ['treasure', '88', '160', 'treasure', '88', '192', '']\n",
      "nearbyitem ['treasure', '88', '160', 'treasure', '88', '192', 'treasure', '56', '192', '']\n",
      "nearbyitem ['treasure', '88', '160', 'treasure', '88', '192', 'treasure', '56', '192', 'food', '72', '120', '']\n",
      "nearbyitem ['treasure', '88', '160', 'treasure', '88', '192', 'treasure', '56', '192', 'food', '72', '120', 'ammo', '88', '184', '']\n",
      "playerupdate ['96', '168', '1', '5', 'False']\n",
      "playerupdate ['96', '168', '1', '5', 'False']\n",
      "nearbywalls ['144', '192', '144', '184', '144', '176', '144', '168', '144', '160', '144', '152', '144', '144', '136', '200', '136', '192', '136', '184', '136', '176', '136', '168', '136', '160', '136', '152', '136', '144', '136', '136', '128', '200', '128', '136', '120', '200', '120', '136', '112', '216', '112', '208', '112', '200', '112', '136', '104', '208', '104', '200', '104', '136', '104', '128', '104', '120', '96', '208', '96', '200', '96', '136', '96', '128', '88', '136', '88', '128', '80', '216', '80', '208', '80', '200', '80', '192', '80', '176', '80', '160', '80', '152', '80', '144', '80', '136', '80', '128', '72', '192', '72', '176', '72', '160', '72', '128', '64', '208', '64', '200', '64', '192', '64', '176', '64', '160', '64', '128', '56', '160', '48', '160', '48', '152', '48', '144', '']\n",
      "nearbyfloors ['48', '168', '48', '176', '48', '184', '56', '168', '56', '176', '56', '184', '56', '192', '64', '168', '64', '184', '72', '120', '72', '168', '72', '184', '80', '120', '80', '168', '80', '184', '88', '120', '88', '144', '88', '152', '88', '160', '88', '168', '88', '176', '88', '184', '88', '192', '88', '200', '88', '208', '96', '120', '96', '144', '96', '152', '96', '160', '96', '168', '96', '176', '96', '184', '96', '192', '104', '144', '104', '152', '104', '160', '104', '168', '104', '176', '104', '184', '104', '192', '112', '144', '112', '152', '112', '160', '112', '168', '112', '176', '112', '184', '112', '192', '120', '144', '120', '152', '120', '160', '120', '168', '120', '176', '120', '184', '120', '192', '128', '144', '128', '152', '128', '160', '128', '168', '128', '176', '128', '184', '128', '192', '']\n",
      "nearbyitem ['treasure', '88', '160', '']\n",
      "nearbyitem ['treasure', '88', '160', 'treasure', '88', '192', '']\n",
      "nearbyitem ['treasure', '88', '160', 'treasure', '88', '192', 'treasure', '56', '192', '']\n",
      "nearbyitem ['treasure', '88', '160', 'treasure', '88', '192', 'treasure', '56', '192', 'food', '72', '120', '']\n",
      "nearbyitem ['treasure', '88', '160', 'treasure', '88', '192', 'treasure', '56', '192', 'food', '72', '120', 'ammo', '88', '184', '']\n",
      "playerupdate ['96', '168', '1', '5', 'False']\n",
      "playerupdate ['96', '168', '1', '5', 'False']\n",
      "nearbyitem ['treasure', '88', '160', '']\n",
      "nearbyitem ['treasure', '88', '160', 'treasure', '88', '192', '']\n",
      "nearbyitem ['treasure', '88', '160', 'treasure', '88', '192', 'treasure', '56', '192', '']\n",
      "nearbyitem ['treasure', '88', '160', 'treasure', '88', '192', 'treasure', '56', '192', 'food', '72', '120', '']\n"
     ]
    }
   ],
   "source": [
    "# from random import randchoice\n",
    "from time import sleep\n",
    "\n",
    "for _ in range(10):\n",
    "    for _2 in range(10):\n",
    "        update = player1.socket.recvfrom(player1.bufferSize)[0].decode('ascii') \n",
    "        player1.update(update)\n",
    "    \n",
    "    \n",
    "    sleep(1)\n",
    "    k = 9\n",
    "    nearest = player1.nearest_floors(9)\n",
    "    current = nearest[0]\n",
    "    \n",
    "    player1.x = current.x\n",
    "    player1.y = current.y\n",
    "    \n",
    "    \n",
    "    k_nearest = nearest[1:]\n",
    "    \n",
    "    \n",
    "    unvisited = list(filter(lambda floor: not floor.visited, k_nearest))\n",
    "    if len(unvisited):\n",
    "        unvisited[0].visited = True\n",
    "        player1.move_to(unvisited[0].x, unvisited[0].y)\n",
    "    \n",
    "    "
   ]
  },
  {
   "cell_type": "code",
   "execution_count": null,
   "id": "17452985",
   "metadata": {},
   "outputs": [],
   "source": []
  }
 ],
 "metadata": {
  "kernelspec": {
   "display_name": "Python 3 (ipykernel)",
   "language": "python",
   "name": "python3"
  },
  "language_info": {
   "codemirror_mode": {
    "name": "ipython",
    "version": 3
   },
   "file_extension": ".py",
   "mimetype": "text/x-python",
   "name": "python",
   "nbconvert_exporter": "python",
   "pygments_lexer": "ipython3",
   "version": "3.10.4"
  }
 },
 "nbformat": 4,
 "nbformat_minor": 5
}
