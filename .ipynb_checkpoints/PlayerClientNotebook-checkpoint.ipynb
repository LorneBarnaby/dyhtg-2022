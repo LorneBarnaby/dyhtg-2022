{
 "cells": [
  {
   "cell_type": "code",
   "execution_count": 1,
   "id": "d4238830",
   "metadata": {},
   "outputs": [],
   "source": [
    "from Player import Player"
   ]
  },
  {
   "cell_type": "code",
   "execution_count": 2,
   "id": "c503998d",
   "metadata": {
    "scrolled": true
   },
   "outputs": [
    {
     "name": "stdout",
     "output_type": "stream",
     "text": [
      "joined with data ['wizard', 'lorne', '188', '236']\n"
     ]
    }
   ],
   "source": [
    "player1 = Player.spawn((\"10.211.55.4\", 11000),'lorne')"
   ]
  },
  {
   "cell_type": "code",
   "execution_count": 3,
   "id": "2515112b",
   "metadata": {},
   "outputs": [
    {
     "name": "stdout",
     "output_type": "stream",
     "text": [
      "192 240\n"
     ]
    }
   ],
   "source": [
    "print(player1.x, player1.y)"
   ]
  },
  {
   "cell_type": "code",
   "execution_count": null,
   "id": "da3f01e7",
   "metadata": {
    "scrolled": true
   },
   "outputs": [],
   "source": [
    "\n",
    "\n",
    "for _ in range(100):\n",
    "    update = player1.socket.recvfrom(player1.bufferSize)[0].decode('ascii') \n",
    "    player1.update(update)\n",
    "\n",
    "# print(player1.nearest_floors(20))\n",
    "# print(player1.seen_walls)"
   ]
  },
  {
   "cell_type": "code",
   "execution_count": null,
   "id": "896d7a92",
   "metadata": {},
   "outputs": [
    {
     "name": "stdout",
     "output_type": "stream",
     "text": [
      "joined with data ['wizard', 'lorne', '188', '236']\n",
      "wanting to move to square FloorTile(x=184, y=240, _visited=False) from 192 240\n",
      "wanting to move to square FloorTile(x=176, y=240, _visited=False) from 184 240\n",
      "reached the wall at FloorTile(x=176, y=240, _visited=False)\n",
      "joined with data ['wizard', 'lorne', '181.00008', '236']\n",
      "Heading north\n",
      "joined with data ['wizard', 'lorne', '181.00005', '212.75024']\n",
      "joined with data ['wizard', 'lorne', '181.00005', '196.75044']\n",
      "Heading west\n",
      "joined with data ['wizard', 'lorne', '156.75035', '181.0006']\n",
      "Should head north\n",
      "Heading north\n",
      "Heading west\n",
      "should head south\n",
      "Heading south\n",
      "joined with data ['wizard', 'lorne', '125.00069', '195.25044']\n",
      "joined with data ['wizard', 'lorne', '125.00069', '211.25026']\n",
      "should head west\n",
      "Heading west\n",
      "joined with data ['wizard', 'lorne', '100.750725', '227.0001']\n",
      "joined with data ['wizard', 'lorne', '84.75074', '227.0001']\n",
      "Should head north\n",
      "Heading north\n",
      "joined with data ['wizard', 'lorne', '69.00071', '204.75035']\n",
      "Heading west\n",
      "should head south\n",
      "Heading south\n",
      "joined with data ['wizard', 'lorne', '53.000732', '219.25017']\n",
      "joined with data ['wizard', 'lorne', '53.000732', '235.24998']\n",
      "should head west\n",
      "Heading west\n",
      "joined with data ['wizard', 'lorne', '28.75082', '242.99992']\n",
      "joined with data ['wizard', 'lorne', '12.750826', '242.99992']\n",
      "Should head north\n",
      "Heading north\n",
      "joined with data ['wizard', 'lorne', '5.000785', '220.75017']\n",
      "joined with data ['wizard', 'lorne', '5.000785', '204.75035']\n",
      "Heading east\n",
      "joined with data ['wizard', 'lorne', '27.250732', '197.00041']\n",
      "joined with data ['wizard', 'lorne', '43.250706', '197.00041']\n",
      "joined with data ['wizard', 'lorne', '59.25069', '197.00041']\n",
      "should head north\n",
      "Heading north\n",
      "Heading east\n",
      "joined with data ['wizard', 'lorne', '91.25066', '173.00069']\n",
      "joined with data ['wizard', 'lorne', '107.25065', '173.00069']\n",
      "joined with data ['wizard', 'lorne', '123.25063', '173.00069']\n",
      "joined with data ['wizard', 'lorne', '139.25052', '173.00069']\n",
      "should head north\n",
      "Heading north\n",
      "Heading east\n",
      "should head north\n",
      "Heading north\n",
      "joined with data ['wizard', 'lorne', '163.00026', '140.75108']\n",
      "Heading west\n",
      "joined with data ['wizard', 'lorne', '140.7505', '133.00114']\n",
      "Should head north\n",
      "Heading north\n",
      "Heading west\n",
      "should head south\n",
      "Heading south\n",
      "should head west\n",
      "Heading west\n",
      "joined with data ['wizard', 'lorne', '92.750656', '139.00102']\n",
      "joined with data ['wizard', 'lorne', '76.750694', '139.00102']\n",
      "joined with data ['wizard', 'lorne', '60.75071', '139.00102']\n",
      "should head south\n",
      "Heading south\n",
      "joined with data ['wizard', 'lorne', '53.00069', '163.25072']\n",
      "should head west\n",
      "Heading west\n",
      "joined with data ['wizard', 'lorne', '28.750778', '171.00066']\n",
      "Should head north\n",
      "Heading north\n",
      "joined with data ['wizard', 'lorne', '21.000736', '148.7509']\n",
      "Heading east\n",
      "joined with data ['wizard', 'lorne', '43.250656', '133.00105']\n",
      "should head south\n",
      "Heading south\n",
      "should head east\n",
      "Heading east\n",
      "should head north\n",
      "Heading north\n",
      "joined with data ['wizard', 'lorne', '67.00069', '116.75117']\n",
      "joined with data ['wizard', 'lorne', '67.00069', '100.75118']\n",
      "Heading east\n",
      "should head north\n",
      "Heading north\n",
      "Heading west\n"
     ]
    }
   ],
   "source": [
    "import random\n",
    "from FloorTile import FloorTile\n",
    "from Wall import Wall\n",
    "from time import sleep\n",
    "import socket\n",
    "\n",
    "\n",
    "sleeptime = 0.75\n",
    "updatefreq = 3 \n",
    "\n",
    "\n",
    "# def update():\n",
    "#     for _ in range(50):\n",
    "#         u = player1.socket.recvfrom(player1.bufferSize)[0].decode('ascii')\n",
    "#         player1.update(u)\n",
    "\n",
    "        \n",
    "\n",
    "# def update():\n",
    "#     for _ in range(150):\n",
    "#         update = player1.socket.recvfrom(player1.bufferSize)[0].decode('ascii')\n",
    "#         player1.update(update)\n",
    "\n",
    "\n",
    "\n",
    "def update():\n",
    "    player1.stop()\n",
    "    player1.socket.close()\n",
    "    player1.socket = socket.socket(family=socket.AF_INET, type=socket.SOCK_DGRAM)\n",
    "    player1.join() \n",
    "#     player1.x += 4\n",
    "#     player1.y += 4\n",
    "    \n",
    "    for _ in range(64):\n",
    "        update = player1.socket.recvfrom(player1.bufferSize)[0].decode('ascii')\n",
    "        player1.update(update)\n",
    "    \n",
    "    \n",
    "    \n",
    "# lastpos = player1.x,player1.y\n",
    "i = 0\n",
    "while True:\n",
    "    \n",
    "    if i % updatefreq == 0:\n",
    "        update()\n",
    "    \n",
    "    \n",
    "\n",
    "    \n",
    "    left_square = player1.x - 8, player1.y\n",
    "    sq = FloorTile(*left_square, False)\n",
    "    \n",
    "    print('wanting to move to square', sq, 'from', player1.x, player1.y)\n",
    "    if sq in player1.seen_walls:\n",
    "        print('reached the wall at', sq)\n",
    "        break\n",
    "    \n",
    "    player1.move_to(sq.x, sq.y)\n",
    "    \n",
    "    i += 1 \n",
    "    sleep(sleeptime)\n",
    "\n",
    "\n",
    "update()\n",
    "\n",
    "\n",
    "def north():\n",
    "#     update()\n",
    "    \n",
    "    print('Heading north')\n",
    "    \n",
    "    n = player1.x, player1.y-8\n",
    "    ntile = FloorTile(*n, False)\n",
    "    \n",
    "    if ntile in player1.seen_walls:\n",
    "        east()\n",
    "        print(\"should head east\")\n",
    "        return\n",
    "\n",
    "    \n",
    "    player1.move_to(ntile.x, ntile.y)\n",
    "    sleep(sleeptime)\n",
    "    \n",
    "    i = 0\n",
    "    \n",
    "    while True:\n",
    "        \n",
    "        \n",
    "        \n",
    "        n = player1.x, player1.y-8\n",
    "        ntile = FloorTile(*n, False)\n",
    "\n",
    "\n",
    "        s = player1.x, player1.y + 8\n",
    "        e = player1.x + 8, player1.y\n",
    "        w = player1.x - 8, player1.y \n",
    "\n",
    "\n",
    "        stile, etile, wtile = [FloorTile(*i, False) for i in [s,e,w]]\n",
    "        \n",
    "\n",
    "        \n",
    "        if wtile not in player1.seen_walls:\n",
    "            west()\n",
    "            print(\"sould head west\")\n",
    "            return \n",
    "        \n",
    "        if ntile in player1.seen_walls:\n",
    "            east()\n",
    "            print(\"should head east\")\n",
    "            return\n",
    "        \n",
    "    \n",
    "        player1.move_to(ntile.x, ntile.y)\n",
    "        \n",
    "        i += 1 \n",
    "        \n",
    "        if i % updatefreq == 0:\n",
    "            update()\n",
    "        sleep(sleeptime)\n",
    "\n",
    "            \n",
    "def east():\n",
    "#     update()\n",
    "    print('Heading east')\n",
    "    \n",
    "    e = player1.x + 8, player1.y\n",
    "    etile = FloorTile(*e, False)\n",
    "    \n",
    "    if etile in player1.seen_walls:\n",
    "        print('should head south')\n",
    "        south()\n",
    "        return\n",
    "        \n",
    "    player1.move_to(etile.x, etile.y)\n",
    "    sleep(sleeptime)\n",
    "    \n",
    "    i = 0\n",
    "    \n",
    "    while True:\n",
    "        \n",
    "       \n",
    "        \n",
    "        \n",
    "        e = player1.x + 8, player1.y\n",
    "        etile = FloorTile(*e, False)\n",
    "        \n",
    "        \n",
    "        n = player1.x, player1.y - 8\n",
    "        s = player1.x, player1.y + 8\n",
    "        \n",
    "        w = player1.x - 8, player1.y \n",
    "\n",
    "\n",
    "        ntile, stile, wtile = [FloorTile(*i, False) for i in [n,s,w]]\n",
    "        \n",
    "        \n",
    "        \n",
    "        if ntile not in player1.seen_walls:\n",
    "            print('should head north')\n",
    "            north()\n",
    "            \n",
    "            return \n",
    "        \n",
    "        if etile in player1.seen_walls:\n",
    "            print('should head south')\n",
    "            south()\n",
    "            return\n",
    "    \n",
    "        player1.move_to(etile.x, etile.y)\n",
    "        i += 1 \n",
    "        \n",
    "        if i % updatefreq == 0:\n",
    "            update()\n",
    "        sleep(sleeptime)\n",
    "\n",
    "            \n",
    "def south():\n",
    "    print('Heading south')\n",
    "    \n",
    "    s = player1.x, player1.y+8\n",
    "    stile = FloorTile(*s, False)\n",
    "    \n",
    "\n",
    "    if stile in player1.seen_walls:\n",
    "#             \n",
    "        print('should head west')\n",
    "        west()\n",
    "        return\n",
    "    \n",
    "        \n",
    "    player1.move_to(stile.x, stile.y)\n",
    "    sleep(sleeptime)\n",
    "    \n",
    "    i = 0\n",
    "    while True:\n",
    "        \n",
    "        \n",
    "        \n",
    "        s = player1.x, player1.y+8\n",
    "        stile = FloorTile(*s, False)\n",
    "    \n",
    "        \n",
    "        n = player1.x, player1.y - 8\n",
    "       \n",
    "        e = player1.x + 8, player1.y\n",
    "        w = player1.x - 8, player1.y \n",
    "\n",
    "\n",
    "        ntile, etile, wtile = [FloorTile(*i, False) for i in [n,e,w]]\n",
    "        \n",
    "        \n",
    "        \n",
    "        \n",
    "        if etile not in player1.seen_walls:\n",
    "            \n",
    "            print('should head east')\n",
    "            east()\n",
    "            return \n",
    "        \n",
    "        if stile in player1.seen_walls:\n",
    "#             \n",
    "            print('should head west')\n",
    "            west()\n",
    "            return\n",
    "        \n",
    "\n",
    "        player1.move_to(stile.x, stile.y)\n",
    "        i += 1 \n",
    "        \n",
    "        if i % updatefreq == 0:\n",
    "            update()\n",
    "        sleep(sleeptime)\n",
    "\n",
    "        \n",
    "def west():\n",
    "#     update()\n",
    "    print('Heading west')\n",
    "    \n",
    "    w = player1.x - 8, player1.y\n",
    "    wtile = FloorTile(*w, False)\n",
    "    \n",
    "    if wtile in player1.seen_walls:\n",
    "\n",
    "        print('Should head north')\n",
    "        north()\n",
    "        return\n",
    "\n",
    "    player1.move_to(wtile.x, wtile.y)\n",
    "    \n",
    "    sleep(sleeptime)\n",
    "    i = 0\n",
    "    \n",
    "    \n",
    "    while True:\n",
    "        \n",
    "    \n",
    "        \n",
    "        w = player1.x - 8, player1.y\n",
    "        wtile = FloorTile(*w, False)\n",
    "\n",
    "        \n",
    "        n = player1.x, player1.y - 8\n",
    "        e = player1.x + 8, player1.y\n",
    "        s = player1.x, player1.y + 8\n",
    "        \n",
    "        ntile, stile, etile = [FloorTile(*i, False) for i in [n,s,e]]\n",
    "        \n",
    "        \n",
    "        \n",
    "        if stile not in player1.seen_walls:\n",
    "            print('should head south')\n",
    "            south()\n",
    "            return\n",
    "        \n",
    "        if wtile in player1.seen_walls:\n",
    "\n",
    "            print('Should head north')\n",
    "            north()\n",
    "            return\n",
    "\n",
    "        player1.move_to(wtile.x, wtile.y)\n",
    "        \n",
    "        i += 1 \n",
    "        \n",
    "        if i % updatefreq == 0:\n",
    "            update()\n",
    "        sleep(sleeptime)\n",
    "        \n",
    "\n",
    "\n",
    "\n",
    "north()"
   ]
  },
  {
   "cell_type": "code",
   "execution_count": null,
   "id": "98564e33",
   "metadata": {},
   "outputs": [],
   "source": [
    "west()"
   ]
  },
  {
   "cell_type": "code",
   "execution_count": null,
   "id": "ea59d9bf",
   "metadata": {},
   "outputs": [],
   "source": [
    "north()"
   ]
  },
  {
   "cell_type": "code",
   "execution_count": null,
   "id": "7a657312",
   "metadata": {},
   "outputs": [],
   "source": [
    "east()"
   ]
  },
  {
   "cell_type": "code",
   "execution_count": null,
   "id": "7fdb466b",
   "metadata": {},
   "outputs": [],
   "source": [
    "south()"
   ]
  },
  {
   "cell_type": "code",
   "execution_count": null,
   "id": "51b5591d",
   "metadata": {},
   "outputs": [],
   "source": [
    "player1.stop()"
   ]
  },
  {
   "cell_type": "code",
   "execution_count": null,
   "id": "9812b40e",
   "metadata": {},
   "outputs": [],
   "source": [
    "import random\n",
    "from FloorTile import FloorTile\n",
    "from Wall import Wall\n",
    "from time import sleep\n",
    "\n",
    "\n",
    "# Walk in a direction until a wall is hit\n",
    "# Walk left\n",
    "\n",
    "def update():\n",
    "    for _ in range(64):\n",
    "        update = player1.socket.recvfrom(player1.bufferSize)[0].decode('ascii')\n",
    "        player1.update(update)\n",
    "\n",
    "lastpos = player1.x,player1.y\n",
    "\n",
    "while True:\n",
    "    update()\n",
    "    \n",
    "    \n",
    "    sleep(1)\n",
    "    \n",
    "    left_square = player1.x - 8, player1.y\n",
    "    sq = FloorTile(*left_square, False)\n",
    "    \n",
    "    print('wanting to move to square', sq, 'from', player1.x, player1.y)\n",
    "    if sq in player1.seen_walls:\n",
    "        print('reached the wall at', sq)\n",
    "        break\n",
    "    \n",
    "    player1.move_to(sq.x, sq.y)\n",
    "    \n",
    "    sleep(2)\n",
    "\n",
    "    \n",
    "\n"
   ]
  },
  {
   "cell_type": "code",
   "execution_count": null,
   "id": "148d429b",
   "metadata": {},
   "outputs": [],
   "source": [
    "player1.seen_walls"
   ]
  },
  {
   "cell_type": "code",
   "execution_count": null,
   "id": "e3e94374",
   "metadata": {},
   "outputs": [],
   "source": [
    "\n",
    "from time import sleep\n",
    "\n",
    "while True:\n",
    "    for _ in range(20):\n",
    "        update = player1.socket.recvfrom(player1.bufferSize)[0].decode('ascii') \n",
    "        player1.update(update)\n",
    "\n",
    "\n",
    "\n",
    "    n = player1.x, player1.y - 8\n",
    "    s = player1.x, player1.y + 8\n",
    "    e = player1.x + 8, player1.y\n",
    "    w = player1.x - 8, player1.y \n",
    "\n",
    "\n",
    "    ne = player1.x + 8, player1.y - 8\n",
    "    se = player1.x + 8, player1.y + 8\n",
    "\n",
    "    nw = player1.x - 8, player1.y - 8\n",
    "    sw = player1.x - 8, player1.y + 8\n",
    "\n",
    "\n",
    "    prospective_floors = set([FloorTile(*i, False) for i in [\n",
    "        n,s,e,w, ne,se,nw,sw\n",
    "    ]])\n",
    "\n",
    "    actual_floors = prospective_floors.difference(player1.seen_walls)\n",
    "    print('af', actual_floors)\n",
    "\n",
    "\n",
    "\n",
    "    actual_floors.add(FloorTile(player1.x,player1.y, True))\n",
    "\n",
    "\n",
    "    can_move_to = []\n",
    "\n",
    "    for floor in actual_floors:\n",
    "        floorkey = f'{floor.x},{floor.y}'\n",
    "        if floorkey in player1.floors_dict:\n",
    "        \n",
    "            can_move_to.append(player1.floors_dict[floorkey])\n",
    "\n",
    "\n",
    "\n",
    "    #randomly choose a tile to move to\n",
    "    unvisited = list(filter(lambda f: not f.visited, can_move_to))\n",
    "\n",
    "\n",
    "    if len(unvisited):\n",
    "        to_visit = unvisited[0]     \n",
    "    else:\n",
    "        to_visit = player1.floors_dict[player1.predecessors[f'{player1.x},{player1.y}']] \n",
    "\n",
    "    print('Trying to visit', to_visit, 'from', player1.x, player1.y)\n",
    "\n",
    "    to_visit.visited = True\n",
    "    player1.move_to(to_visit.x, to_visit.y)\n",
    "    \n",
    "    \n",
    "    "
   ]
  },
  {
   "cell_type": "code",
   "execution_count": null,
   "id": "6267fae9",
   "metadata": {},
   "outputs": [],
   "source": [
    "player1.seen_floors"
   ]
  },
  {
   "cell_type": "code",
   "execution_count": null,
   "id": "5a3876b5",
   "metadata": {},
   "outputs": [],
   "source": [
    "list(filter(lambda w: w.y == 72, player1.seen_walls))"
   ]
  },
  {
   "cell_type": "code",
   "execution_count": null,
   "id": "228e24e2",
   "metadata": {},
   "outputs": [],
   "source": [
    "# from random import randchoice\n",
    "from time import sleep\n",
    "import random\n",
    "\n",
    "\n",
    "\n",
    "def update():\n",
    "    for _ in range(64):\n",
    "        update = player1.socket.recvfrom(player1.bufferSize)[0].decode('ascii') \n",
    "        player1.update(update)\n",
    "\n",
    "i = 0\n",
    "\n",
    "\n",
    "player1.predecessors[f'{player1.x},{player1.y}'] = f'{player1.x},{player1.y}'\n",
    "\n",
    "\n",
    "while True:\n",
    "    \n",
    "    \n",
    "    if i % 3 == 0:\n",
    "        update()\n",
    "\n",
    "    \n",
    "    nearest = player1.nearest_floors(9)\n",
    "    current = nearest[0]\n",
    "    current.visited = True\n",
    "    \n",
    "    player1.x = current.x\n",
    "    player1.y = current.y\n",
    "    print('PLAYER CURRENTLY AT', player1.x, player1.y)\n",
    "    \n",
    "    \n",
    "    k_nearest = nearest[1:]\n",
    "    \n",
    "    \n",
    "    unvisited = list(filter(lambda floor: not floor.visited, k_nearest))\n",
    "    \n",
    "    if len(unvisited):\n",
    "        unvisited[0].visited = True\n",
    "        print('moving to',unvisited[0].x, unvisited[0].y)\n",
    "        player1.predecessors[f'{unvisited[0].x},{unvisited[0].y}'] = f'{player1.x},{player1.y}'\n",
    "        player1.move_to(unvisited[0].x, unvisited[0].y)\n",
    "    else:\n",
    "        last = player1.predecessors.get(f'{current.x},{current.y}', None)\n",
    "        if last is not None:\n",
    "            x,y = last.split(',')\n",
    "            print(\"Moving to\", x, y)\n",
    "            player1.move_to(int(x), int(y))\n",
    "        else:\n",
    "            pass\n",
    "            \n",
    "            \n",
    "    sleep(0.75)\n",
    "    i +=1 \n",
    "    "
   ]
  },
  {
   "cell_type": "code",
   "execution_count": null,
   "id": "9a1c1dc0",
   "metadata": {},
   "outputs": [],
   "source": [
    "import random\n",
    "\n",
    "for _2 in range(10):\n",
    "        update = player1.socket.recvfrom(player1.bufferSize)[0].decode('ascii') \n",
    "        player1.update(update)\n",
    "        \n",
    "while True:\n",
    "    for _2 in range(10):\n",
    "        update = player1.socket.recvfrom(player1.bufferSize)[0].decode('ascii') \n",
    "        player1.update(update)\n",
    "        \n",
    "        \n",
    "    current = player1.nearest_floors(1)[0]\n",
    "    current.visited = True\n",
    "    \n",
    "    player1.x = current.x\n",
    "    player1.y = current.y\n",
    "    \n",
    "    k_unvisited = player1.k_nearest_unvisited(5)\n",
    "    \n",
    "    if len(k_unvisited):\n",
    "        \n",
    "        to_visit = random.choice(k_unvisited)\n",
    "        to_visit.visited = True\n",
    "        print('moving to',to_visit.x, to_visit.y)\n",
    "        player1.move_to(to_visit.x, to_visit.y)\n",
    "    \n",
    "    \n",
    "    \n",
    "        "
   ]
  },
  {
   "cell_type": "code",
   "execution_count": null,
   "id": "f9887f65",
   "metadata": {},
   "outputs": [],
   "source": [
    "player1.seen_floors\n",
    "nearest = player1.nearest_floors(9)\n",
    "nearest"
   ]
  },
  {
   "cell_type": "code",
   "execution_count": null,
   "id": "d20e52fc",
   "metadata": {},
   "outputs": [],
   "source": [
    "# print(player1.seen_floors)\n",
    "print(player1.predecessors)"
   ]
  },
  {
   "cell_type": "code",
   "execution_count": null,
   "id": "a93fc939",
   "metadata": {},
   "outputs": [],
   "source": [
    "player1.x, player1.y"
   ]
  },
  {
   "cell_type": "code",
   "execution_count": null,
   "id": "cb6d217c",
   "metadata": {},
   "outputs": [],
   "source": [
    "for _ in range(10):\n",
    "    update = player1.socket.recvfrom(player1.bufferSize)[0].decode('ascii') \n",
    "    player1.update(update)"
   ]
  },
  {
   "cell_type": "code",
   "execution_count": null,
   "id": "00507404",
   "metadata": {},
   "outputs": [],
   "source": [
    "player1.nearest_floors(9)"
   ]
  },
  {
   "cell_type": "code",
   "execution_count": null,
   "id": "8e1028a1",
   "metadata": {},
   "outputs": [],
   "source": [
    "player1.nearby_items"
   ]
  },
  {
   "cell_type": "code",
   "execution_count": null,
   "id": "41c72fee",
   "metadata": {},
   "outputs": [],
   "source": [
    "player1.face_direction('e')\n",
    "update = player1.socket.recvfrom(player1.bufferSize)[0].decode('ascii') \n",
    "player1.update(update)"
   ]
  },
  {
   "cell_type": "code",
   "execution_count": null,
   "id": "fb5ca618",
   "metadata": {},
   "outputs": [],
   "source": []
  },
  {
   "cell_type": "code",
   "execution_count": null,
   "id": "1853ef81",
   "metadata": {},
   "outputs": [],
   "source": [
    "player1.move_direction('e')\n",
    "update = player1.socket.recvfrom(player1.bufferSize)[0].decode('ascii') \n",
    "player1.update(update)"
   ]
  },
  {
   "cell_type": "code",
   "execution_count": null,
   "id": "77031fca",
   "metadata": {},
   "outputs": [],
   "source": [
    "player1.nearby_items"
   ]
  },
  {
   "cell_type": "code",
   "execution_count": null,
   "id": "25112dcc",
   "metadata": {},
   "outputs": [],
   "source": [
    "player1.stop()"
   ]
  },
  {
   "cell_type": "code",
   "execution_count": null,
   "id": "1343ebfe",
   "metadata": {},
   "outputs": [],
   "source": [
    "player1.move_to(24,216)"
   ]
  },
  {
   "cell_type": "code",
   "execution_count": null,
   "id": "576d0936",
   "metadata": {},
   "outputs": [],
   "source": [
    "while True:\n",
    "    if len(player1.nearby_items):\n",
    "        item = player1.nearby_items.pop()\n",
    "        player1.move_to(item[0],item[1])"
   ]
  },
  {
   "cell_type": "code",
   "execution_count": null,
   "id": "e84a1b59",
   "metadata": {},
   "outputs": [],
   "source": [
    "player1.nearby_items"
   ]
  },
  {
   "cell_type": "code",
   "execution_count": null,
   "id": "4e1e6497",
   "metadata": {},
   "outputs": [],
   "source": [
    "items = ['bluekey', '80', '72', 'greenkey', '112', '56', '']\n",
    "items[::]"
   ]
  },
  {
   "cell_type": "code",
   "execution_count": null,
   "id": "bdfba867",
   "metadata": {},
   "outputs": [],
   "source": [
    "nearby = [] \n",
    "if len(items):\n",
    "    n_groups = (len(items)-1) // 3\n",
    "    \n",
    "    for i in range(n_groups):\n",
    "        \n",
    "        nearby.append(items[i*3:(i+1)*3])"
   ]
  },
  {
   "cell_type": "code",
   "execution_count": null,
   "id": "5b4e3c94",
   "metadata": {},
   "outputs": [],
   "source": [
    "nearby"
   ]
  },
  {
   "cell_type": "code",
   "execution_count": null,
   "id": "2ab69a4f",
   "metadata": {},
   "outputs": [],
   "source": [
    "if len(player1.nearby_items):\n",
    "    item = player1.nearby_items.pop()\n",
    "    player1.move_to(item[0],item[1])"
   ]
  },
  {
   "cell_type": "code",
   "execution_count": null,
   "id": "c44a2359",
   "metadata": {},
   "outputs": [],
   "source": []
  },
  {
   "cell_type": "code",
   "execution_count": null,
   "id": "af8d590c",
   "metadata": {},
   "outputs": [],
   "source": [
    "player1.x, player1.y"
   ]
  },
  {
   "cell_type": "code",
   "execution_count": null,
   "id": "32aa7a01",
   "metadata": {},
   "outputs": [],
   "source": [
    "player1.move_to(player1.x, player1.y)"
   ]
  },
  {
   "cell_type": "code",
   "execution_count": null,
   "id": "f4d99616",
   "metadata": {},
   "outputs": [],
   "source": [
    "player1.face_direction(\"e\")\n",
    "player1.move_direction(\"e\")"
   ]
  },
  {
   "cell_type": "code",
   "execution_count": null,
   "id": "9b19c082",
   "metadata": {},
   "outputs": [],
   "source": [
    "player1.stop()"
   ]
  },
  {
   "cell_type": "code",
   "execution_count": null,
   "id": "0ab06d9c",
   "metadata": {},
   "outputs": [],
   "source": [
    "player1.face_direction(\"n\")\n",
    "player1.move_direction(\"n\")"
   ]
  },
  {
   "cell_type": "code",
   "execution_count": null,
   "id": "c0c896d7",
   "metadata": {},
   "outputs": [],
   "source": [
    "player1.x, player1.y"
   ]
  },
  {
   "cell_type": "code",
   "execution_count": null,
   "id": "3c881b9f",
   "metadata": {},
   "outputs": [],
   "source": [
    "player1.move_to(32, 160)"
   ]
  },
  {
   "cell_type": "code",
   "execution_count": null,
   "id": "77ca24d6",
   "metadata": {},
   "outputs": [],
   "source": [
    "player1.nearby_items"
   ]
  },
  {
   "cell_type": "code",
   "execution_count": null,
   "id": "ca4bf463",
   "metadata": {},
   "outputs": [],
   "source": [
    "player1.face_direction(\"w\")"
   ]
  },
  {
   "cell_type": "code",
   "execution_count": null,
   "id": "a9814e5d",
   "metadata": {},
   "outputs": [],
   "source": [
    "player1.SendMessage(':')"
   ]
  },
  {
   "cell_type": "code",
   "execution_count": null,
   "id": "91925fa9",
   "metadata": {},
   "outputs": [],
   "source": [
    "a = set([1,1,2,3])\n",
    "sorted(a)"
   ]
  },
  {
   "cell_type": "code",
   "execution_count": null,
   "id": "f2854e6d",
   "metadata": {},
   "outputs": [],
   "source": [
    "Player.spawn((\"10.211.55.4\", 11000),'lorne')\n",
    "Player.spawn((\"10.211.55.4\", 11000),'lorne1')\n",
    "Player.spawn((\"10.211.55.4\", 11000),'lorne2')"
   ]
  },
  {
   "cell_type": "code",
   "execution_count": null,
   "id": "ad3856ab",
   "metadata": {},
   "outputs": [],
   "source": []
  }
 ],
 "metadata": {
  "kernelspec": {
   "display_name": "Python 3 (ipykernel)",
   "language": "python",
   "name": "python3"
  },
  "language_info": {
   "codemirror_mode": {
    "name": "ipython",
    "version": 3
   },
   "file_extension": ".py",
   "mimetype": "text/x-python",
   "name": "python",
   "nbconvert_exporter": "python",
   "pygments_lexer": "ipython3",
   "version": "3.10.4"
  }
 },
 "nbformat": 4,
 "nbformat_minor": 5
}
